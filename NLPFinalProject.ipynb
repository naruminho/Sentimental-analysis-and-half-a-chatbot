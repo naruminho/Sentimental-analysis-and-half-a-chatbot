{
 "cells": [
  {
   "cell_type": "code",
   "execution_count": 1,
   "metadata": {
    "collapsed": true
   },
   "outputs": [],
   "source": [
    "import nltk\n",
    "# movie review sentences\n",
    "from nltk.corpus import sentence_polarity\n",
    "import random"
   ]
  },
  {
   "cell_type": "code",
   "execution_count": 2,
   "metadata": {
    "collapsed": true
   },
   "outputs": [],
   "source": [
    "## repeat the setup of the movie review sentences for classification\n",
    "# for each sentence(document), get its words and category (positive/negative)\n",
    "documents = [(sent, cat) for cat in sentence_polarity.categories() \n",
    "    for sent in sentence_polarity.sents(categories=cat)]\n",
    "random.shuffle(documents)"
   ]
  },
  {
   "cell_type": "code",
   "execution_count": 3,
   "metadata": {
    "collapsed": true
   },
   "outputs": [],
   "source": [
    "# get all words from all movie_reviews and put into a frequency distribution\n",
    "# note lowercase, but no stemming or stopwords\n",
    "word_features = [word for (sent,cat) in documents for word in sent]"
   ]
  },
  {
   "cell_type": "code",
   "execution_count": 5,
   "metadata": {
    "collapsed": true
   },
   "outputs": [],
   "source": [
    "# define features (keywords) of a document for a BOW/unigram baseline\n",
    "# each feature is 'contains(keyword)' and is true or false depending\n",
    "# on whether that keyword is in the document\n",
    "def document_features(document, word_features):\n",
    "    document_words = set(document)\n",
    "    features = {}\n",
    "    for word in word_features:\n",
    "        features['contains({})'.format(word)] = (word in document_words)\n",
    "    return features"
   ]
  },
  {
   "cell_type": "code",
   "execution_count": 6,
   "metadata": {},
   "outputs": [
    {
     "data": {
      "text/plain": [
       "0.737"
      ]
     },
     "execution_count": 6,
     "metadata": {},
     "output_type": "execute_result"
    }
   ],
   "source": [
    "# get features sets for a document, including keyword features and category feature\n",
    "featuresets = [(document_features(d, word_features), c) for (d, c) in documents]\n",
    "\n",
    "# training using naive Baysian classifier, training set is 90% of data\n",
    "train_set, test_set = featuresets[1000:], featuresets[:1000]\n",
    "classifier = nltk.NaiveBayesClassifier.train(train_set)\n",
    "\n",
    "# evaluate the accuracy of the classifier\n",
    "nltk.classify.accuracy(classifier, test_set)"
   ]
  },
  {
   "cell_type": "code",
   "execution_count": 7,
   "metadata": {},
   "outputs": [
    {
     "name": "stdout",
     "output_type": "stream",
     "text": [
      "    |   n   p |\n",
      "    |   e   o |\n",
      "    |   g   s |\n",
      "----+---------+\n",
      "neg |<372>123 |\n",
      "pos | 140<365>|\n",
      "----+---------+\n",
      "(row = reference; col = test)\n",
      "\n",
      "pos precision: 0.7479508196721312\n",
      "pos recall: 0.7227722772277227\n",
      "pos F-measure: 0.7351460221550856\n",
      "neg precision: 0.7265625\n",
      "neg recall: 0.7515151515151515\n",
      "neg F-measure: 0.7388282025819265\n"
     ]
    }
   ],
   "source": [
    "# evaluation measures showing performance of classifier\n",
    "from nltk.metrics import *\n",
    "reflist = []\n",
    "testlist = []\n",
    "for (features, label) in test_set:\n",
    "    reflist.append(label)\n",
    "    testlist.append(classifier.classify(features))\n",
    "    \n",
    "# Confusion matrix gives true positives, false negatives, false positives, and true negatives\n",
    "#   where we interpret female as \"yes\" and male as \"no\"\n",
    "cm = ConfusionMatrix(reflist, testlist)\n",
    "print(cm)\n",
    "\n",
    "# define a set of item identifiers that are gold labels and a set of item identifiers that are predicted labels\n",
    "# this uses index numbers for the labels\n",
    "refpos = set([i for i,label in enumerate(reflist) if label == 'pos'])\n",
    "refneg = set([i for i,label in enumerate(reflist) if label == 'neg'])\n",
    "testpos = set([i for i,label in enumerate(testlist) if label == 'pos'])\n",
    "testneg = set([i for i,label in enumerate(testlist) if label == 'neg'])\n",
    "\n",
    "# compute precision, recall and F-measure for each label\n",
    "\n",
    "def printmeasures(label, refset, testset):\n",
    "    print(label, 'precision:', precision(refset, testset))\n",
    "    print(label, 'recall:', recall(refset, testset)) \n",
    "    print(label, 'F-measure:', f_measure(refset, testset))\n",
    "\n",
    "printmeasures('pos', refpos, testpos)\n",
    "printmeasures('neg', refneg, testneg)"
   ]
  },
  {
   "cell_type": "code",
   "execution_count": 8,
   "metadata": {
    "collapsed": true
   },
   "outputs": [],
   "source": [
    "# this list of negation words includes some \"approximate negators\" like hardly and rarely\n",
    "negationwords = ['no', 'not', 'never', 'none', 'nowhere', 'nothing', 'noone', 'rather', \n",
    "                 'hardly', 'scarcely', 'rarely', 'seldom', 'neither', 'nor']"
   ]
  },
  {
   "cell_type": "code",
   "execution_count": 9,
   "metadata": {
    "collapsed": true
   },
   "outputs": [],
   "source": [
    "# One strategy with negation words is to negate the word following the negation word\n",
    "# other strategies negate all words up to the next punctuation\n",
    "# Strategy is to go through the document words in order adding the word features,\n",
    "#   but if the word follows a negation words, change the feature to negated word\n",
    "# Start the feature set with all 2000 word features and 2000 Not word features set to false\n",
    "def NOT_features(document, word_features, negationwords):\n",
    "    features = {}\n",
    "    for word in word_features:\n",
    "        features['contains({})'.format(word)] = False\n",
    "        features['contains(NOT{})'.format(word)] = False\n",
    "    # go through document words in order\n",
    "    for i in range(0, len(document)):\n",
    "        word = document[i]\n",
    "        if ((i + 1) < len(document)) and ((word in negationwords) or (word.endswith(\"n't\"))):\n",
    "            i += 1\n",
    "            features['contains(NOT{})'.format(document[i])] = (document[i] in word_features)\n",
    "        else:\n",
    "            features['contains({})'.format(word)] = (word in word_features)\n",
    "    return features"
   ]
  },
  {
   "cell_type": "code",
   "execution_count": 10,
   "metadata": {},
   "outputs": [
    {
     "name": "stdout",
     "output_type": "stream",
     "text": [
      "False\n",
      "False\n"
     ]
    }
   ],
   "source": [
    "# define the feature sets\n",
    "NOT_featuresets = [(NOT_features(d, word_features, negationwords), c) for (d, c) in documents]\n",
    "# show the values of a couple of example features\n",
    "print(NOT_featuresets[0][0]['contains(NOTlike)'])\n",
    "print(NOT_featuresets[0][0]['contains(always)'])"
   ]
  },
  {
   "cell_type": "code",
   "execution_count": 11,
   "metadata": {},
   "outputs": [
    {
     "data": {
      "text/plain": [
       "0.777"
      ]
     },
     "execution_count": 11,
     "metadata": {},
     "output_type": "execute_result"
    }
   ],
   "source": [
    "train_set, test_set = NOT_featuresets[1000:], NOT_featuresets[:1000]\n",
    "classifier = nltk.NaiveBayesClassifier.train(train_set)\n",
    "nltk.classify.accuracy(classifier, test_set)"
   ]
  },
  {
   "cell_type": "code",
   "execution_count": 12,
   "metadata": {},
   "outputs": [
    {
     "name": "stdout",
     "output_type": "stream",
     "text": [
      "    |   n   p |\n",
      "    |   e   o |\n",
      "    |   g   s |\n",
      "----+---------+\n",
      "neg |<395>100 |\n",
      "pos | 123<382>|\n",
      "----+---------+\n",
      "(row = reference; col = test)\n",
      "\n",
      "pos precision: 0.7925311203319502\n",
      "pos recall: 0.7564356435643564\n",
      "pos F-measure: 0.7740628166160081\n",
      "neg precision: 0.7625482625482626\n",
      "neg recall: 0.797979797979798\n",
      "neg F-measure: 0.7798617966436328\n"
     ]
    }
   ],
   "source": [
    "# evaluation measures showing performance of classifier\n",
    "from nltk.metrics import *\n",
    "reflist = []\n",
    "testlist = []\n",
    "for (features, label) in test_set:\n",
    "    reflist.append(label)\n",
    "    testlist.append(classifier.classify(features))\n",
    "    \n",
    "# Confusion matrix gives true positives, false negatives, false positives, and true negatives\n",
    "#   where we interpret female as \"yes\" and male as \"no\"\n",
    "cm = ConfusionMatrix(reflist, testlist)\n",
    "print(cm)\n",
    "\n",
    "# define a set of item identifiers that are gold labels and a set of item identifiers that are predicted labels\n",
    "# this uses index numbers for the labels\n",
    "refpos = set([i for i,label in enumerate(reflist) if label == 'pos'])\n",
    "refneg = set([i for i,label in enumerate(reflist) if label == 'neg'])\n",
    "testpos = set([i for i,label in enumerate(testlist) if label == 'pos'])\n",
    "testneg = set([i for i,label in enumerate(testlist) if label == 'neg'])\n",
    "\n",
    "# compute precision, recall and F-measure for each label\n",
    "\n",
    "def printmeasures(label, refset, testset):\n",
    "    print(label, 'precision:', precision(refset, testset))\n",
    "    print(label, 'recall:', recall(refset, testset)) \n",
    "    print(label, 'F-measure:', f_measure(refset, testset))\n",
    "\n",
    "printmeasures('pos', refpos, testpos)\n",
    "printmeasures('neg', refneg, testneg)"
   ]
  },
  {
   "cell_type": "code",
   "execution_count": 13,
   "metadata": {
    "collapsed": true
   },
   "outputs": [],
   "source": [
    "####   adding Bigram features   ####\n",
    "# set up for using bigrams\n",
    "from nltk.collocations import *\n",
    "bigram_measures = nltk.collocations.BigramAssocMeasures()"
   ]
  },
  {
   "cell_type": "code",
   "execution_count": 14,
   "metadata": {
    "collapsed": true
   },
   "outputs": [],
   "source": [
    "# create the bigram finder on all the words in sequence\n",
    "finder = BigramCollocationFinder.from_words(all_words_list)"
   ]
  },
  {
   "cell_type": "code",
   "execution_count": 15,
   "metadata": {
    "scrolled": true
   },
   "outputs": [
    {
     "name": "stdout",
     "output_type": "stream",
     "text": [
      "[('.', '.'), ('.', 'the'), ('.', 'a'), ('of', 'the'), (',', 'but'), (',', 'and'), ('in', 'the'), ('the', 'film'), ('is', 'a'), ('.', \"it's\"), (',', 'the'), ('of', 'a'), ('to', 'the'), ('and', 'the'), ('to', 'be'), ('the', 'movie'), ('.', 'this'), ('.', 'it'), ('for', 'the'), ('it', 'is'), ('with', 'a'), ('.', 'an'), ('as', 'a'), ('in', 'a'), ('on', 'the'), ('one', 'of'), ('and', 'a'), ('this', 'is'), ('a', 'movie'), (\"it's\", 'a'), (',', 'it'), ('.', 'if'), ('with', 'the'), ('film', 'is'), ('like', 'a'), (',', 'a'), ('for', 'a'), ('it', '.'), ('the', 'most'), ('film', '.'), ('.', 'but'), ('but', 'it'), ('of', 'its'), ('movie', '.'), (',', \"it's\"), (',', 'this'), ('a', 'film'), ('as', 'the'), ('from', 'the'), ('.', 'i')]\n"
     ]
    }
   ],
   "source": [
    "# define the top 500 bigrams using the chi squared measure\n",
    "bigram_features = finder.nbest(bigram_measures.raw_freq, 500)\n",
    "print(bigram_features[:50])"
   ]
  },
  {
   "cell_type": "code",
   "execution_count": 16,
   "metadata": {
    "collapsed": true
   },
   "outputs": [],
   "source": [
    "# define features that include words as before \n",
    "# add the most frequent significant bigrams\n",
    "# this function takes the list of words in a document as an argument and returns a feature dictionary\n",
    "# it depends on the variables word_features and bigram_features\n",
    "def bigram_document_features(document, word_features, bigram_features):\n",
    "    document_words = set(document)\n",
    "    document_bigrams = nltk.bigrams(document)\n",
    "    features = {}\n",
    "    for word in word_features:\n",
    "        features['contains({})'.format(word)] = (word in document_words)\n",
    "    for bigram in bigram_features:\n",
    "        features['bigram({} {})'.format(bigram[0], bigram[1])] = (bigram in document_bigrams)    \n",
    "    return features"
   ]
  },
  {
   "cell_type": "code",
   "execution_count": 17,
   "metadata": {},
   "outputs": [
    {
     "name": "stdout",
     "output_type": "stream",
     "text": [
      "2000\n",
      "{'contains(.)': True, 'contains(the)': False, 'contains(,)': True, 'contains(a)': True, 'contains(and)': True, 'contains(of)': False, 'contains(to)': False, 'contains(is)': False, 'contains(in)': False, 'contains(that)': False, 'contains(it)': True, 'contains(as)': False, 'contains(but)': True, 'contains(with)': False, 'contains(film)': False, 'contains(this)': False, 'contains(for)': False, 'contains(its)': False, 'contains(an)': False, 'contains(movie)': False, \"contains(it's)\": True, 'contains(be)': False, 'contains(on)': False, 'contains(you)': True, 'contains(not)': False, 'contains(by)': False, 'contains(about)': False, 'contains(one)': False, 'contains(more)': False, 'contains(like)': True, 'contains(has)': False, 'contains(are)': False, 'contains(at)': False, 'contains(from)': False, 'contains(than)': False, 'contains(\")': False, 'contains(all)': False, 'contains(--)': False, 'contains(his)': True, 'contains(have)': False, 'contains(so)': False, 'contains(if)': False, 'contains(or)': False, 'contains(story)': False, 'contains(i)': False, 'contains(too)': False, 'contains(just)': False, 'contains(who)': False, 'contains(into)': False, 'contains(what)': False, 'contains(most)': False, 'contains(out)': False, 'contains(no)': False, 'contains(much)': False, 'contains(even)': False, 'contains(good)': False, 'contains(up)': False, 'contains(will)': False, 'contains(comedy)': False, 'contains(time)': False, 'contains(can)': False, 'contains(some)': False, 'contains(characters)': False, 'contains(only)': False, 'contains(little)': False, 'contains(way)': False, 'contains(their)': False, 'contains(funny)': False, 'contains(make)': False, 'contains(enough)': False, 'contains(been)': False, 'contains(very)': False, 'contains(your)': False, 'contains(when)': False, 'contains(never)': False, 'contains(makes)': False, 'contains(there)': False, 'contains(may)': False, 'contains(which)': False, 'contains(us)': False, 'contains(work)': False, 'contains(best)': False, 'contains(he)': False, 'contains(bad)': False, \"contains(doesn't)\": False, 'contains(director)': False, 'contains())': False, 'contains(?)': False, 'contains(any)': False, 'contains(()': False, 'contains(love)': False, 'contains(would)': False, 'contains(life)': False, 'contains(they)': False, 'contains(while)': False, 'contains(:)': False, 'contains(we)': False, 'contains(was)': False, \"contains(there's)\": False, 'contains(movies)': False, 'contains(well)': True, 'contains(her)': False, 'contains(new)': False, 'contains(through)': False, 'contains(could)': False, 'contains(something)': False, 'contains(really)': False, 'contains(how)': False, 'contains(made)': False, 'contains(them)': False, 'contains(own)': False, 'contains(does)': False, 'contains(performances)': False, \"contains(that's)\": False, 'contains(drama)': False, 'contains(should)': False, 'contains(many)': False, 'contains(those)': False, 'contains(look)': False, 'contains(films)': False, 'contains(plot)': False, 'contains(still)': False, 'contains(see)': False, 'contains(every)': False, \"contains(isn't)\": False, 'contains(two)': False, 'contains(nothing)': False, 'contains(people)': False, 'contains(better)': False, 'contains(long)': False, 'contains(without)': False, 'contains(other)': False, 'contains(off)': True, 'contains(fun)': False, 'contains(get)': False, 'contains(being)': False, 'contains(action)': False, 'contains(both)': False, 'contains(great)': False, 'contains(though)': False, 'contains(might)': False, 'contains(big)': False, \"contains(')\": False, 'contains(also)': False, 'contains(another)': False, 'contains(cast)': False, 'contains(do)': False, 'contains(humor)': False, 'contains(audience)': False, 'contains(between)': False, 'contains(kind)': False, 'contains(first)': False, 'contains(sense)': False, 'contains(over)': False, 'contains(such)': False, 'contains(character)': False, 'contains(ever)': False, \"contains(don't)\": False, 'contains(feels)': False, 'contains(performance)': False, 'contains(;)': False, 'contains(few)': False, 'contains(script)': False, 'contains(because)': False, 'contains(here)': False, \"contains(film's)\": False, 'contains(far)': False, 'contains(often)': False, 'contains(seems)': False, 'contains(less)': False, 'contains(thing)': False, 'contains(minutes)': False, 'contains(real)': False, 'contains(feel)': False, 'contains(thriller)': False, 'contains(tale)': False, 'contains(world)': False, 'contains(almost)': False, 'contains(picture)': False, \"contains(can't)\": False, 'contains(down)': True, 'contains(quite)': False, 'contains(documentary)': False, 'contains(yet)': False, 'contains(interesting)': False, 'contains(!)': False, 'contains(these)': False, 'contains(entertaining)': False, \"contains(you're)\": False, 'contains(screen)': False, 'contains(my)': False, 'contains(rather)': False, 'contains(end)': False, 'contains(itself)': False, 'contains(hollywood)': False, 'contains(take)': False, 'contains(watching)': False, 'contains(full)': False, 'contains(seen)': False, 'contains(ultimately)': False, 'contains(go)': False, 'contains(hard)': False, 'contains(heart)': False, 'contains(de)': False, 'contains(comes)': False, 'contains(romantic)': False, 'contains(moments)': False, 'contains(lot)': False, 'contains(despite)': False, 'contains(american)': False, 'contains(were)': False, 'contains(where)': False, 'contains(me)': False, 'contains(after)': False, 'contains(acting)': False, 'contains(family)': False, 'contains(before)': False, 'contains(old)': False, 'contains(original)': False, 'contains(had)': False, 'contains(then)': False, 'contains(find)': False, 'contains(right)': False, 'contains(human)': False, 'contains(gets)': False, 'contains(worth)': False, 'contains(same)': False, 'contains(takes)': False, 'contains(come)': False, 'contains(times)': False, 'contains(things)': False, 'contains(dialogue)': False, 'contains(man)': False, 'contains(actors)': False, 'contains(back)': False, 'contains(scenes)': False, 'contains(watch)': False, 'contains(our)': False, 'contains(material)': False, 'contains(compelling)': False, 'contains(once)': False, 'contains(young)': False, 'contains(music)': False, 'contains(works)': False, 'contains(years)': False, 'contains(emotional)': False, 'contains(think)': False, 'contains(anyone)': False, 'contains(seem)': False, 'contains(want)': False, 'contains(gives)': False, 'contains(least)': False, 'contains(know)': False, 'contains(going)': False, 'contains(part)': False, 'contains(say)': False, 'contains(sometimes)': False, 'contains(piece)': False, 'contains(again)': False, 'contains(cinematic)': False, 'contains(entertainment)': False, 'contains(subject)': False, \"contains(you'll)\": False, 'contains(pretty)': False, 'contains(point)': False, 'contains(kids)': False, 'contains(last)': False, 'contains(give)': False, 'contains(special)': False, 'contains(making)': False, 'contains(bit)': False, 'contains(keep)': False, 'contains(whole)': False, 'contains(cinema)': False, 'contains(fascinating)': False, 'contains(together)': False, 'contains(why)': False, 'contains(dull)': False, 'contains(anything)': False, 'contains(fans)': False, 'contains(year)': False, 'contains(moving)': False, 'contains(since)': False, 'contains(away)': False, 'contains(-)': False, 'contains(need)': False, 'contains(style)': False, 'contains(manages)': False, 'contains(show)': False, 'contains(true)': False, 'contains(laughs)': False, 'contains(star)': False, 'contains(experience)': False, 'contains(sweet)': False, 'contains(clever)': False, 'contains(always)': False, 'contains(history)': False, 'contains(offers)': False, 'contains(direction)': False, 'contains(simply)': False, 'contains(high)': False, 'contains(mr)': False, 'contains(dark)': False, 'contains(silly)': False, 'contains(instead)': False, 'contains(whose)': False, 'contains(charm)': False, 'contains(him)': False, 'contains(predictable)': False, 'contains(care)': False, 'contains(actually)': False, 'contains(nearly)': False, 'contains(flick)': False, 'contains(art)': False, 'contains(visual)': False, 'contains(everything)': False, 'contains(matter)': False, 'contains(series)': False, 'contains(around)': False, 'contains(title)': False, 'contains(place)': False, 'contains(comic)': False, 'contains(video)': False, 'contains(idea)': False, 'contains(narrative)': False, \"contains(he's)\": False, 'contains(short)': False, 'contains(screenplay)': False, 'contains(done)': False, 'contains(war)': False, 'contains(goes)': False, 'contains(trying)': False, 'contains(genre)': False, 'contains(probably)': False, 'contains(now)': False, 'contains(women)': False, 'contains(under)': False, \"contains(movie's)\": False, 'contains(premise)': False, 'contains(familiar)': False, 'contains(plays)': False, 'contains(turns)': False, 'contains(enjoyable)': False, 'contains(horror)': False, 'contains(becomes)': False, 'contains(engaging)': False, 'contains(three)': False, 'contains(home)': False, 'contains(filmmakers)': False, 'contains(set)': False, 'contains(lacks)': False, 'contains(she)': False, 'contains(although)': False, 'contains(smart)': False, 'contains(feature)': False, 'contains(feeling)': False, 'contains(worst)': False, 'contains(effects)': False, 'contains(power)': False, 'contains(enjoy)': False, \"contains(won't)\": False, 'contains(effort)': False, 'contains(half)': False, 'contains(especially)': False, 'contains(study)': False, 'contains(charming)': False, 'contains(strong)': False, 'contains(intelligent)': False, 'contains(amusing)': False, 'contains(ending)': False, 'contains(day)': False, 'contains(likely)': False, 'contains(lack)': False, 'contains(debut)': False, 'contains(boring)': False, 'contains(theater)': False, 'contains(john)': False, 'contains(men)': False, 'contains(portrait)': False, 'contains(romance)': False, 'contains(each)': False, \"contains(what's)\": False, 'contains(mostly)': False, 'contains(sort)': False, 'contains(version)': False, 'contains(put)': False, 'contains(certainly)': False, 'contains(else)': False, 'contains(beautiful)': False, 'contains(looking)': False, 'contains(beautifully)': False, 'contains(level)': False, 'contains(next)': False, 'contains(easy)': False, 'contains(problem)': False, 'contains(become)': False, 'contains(message)': False, 'contains(surprisingly)': False, \"contains(you've)\": False, 'contains(wit)': False, 'contains(rare)': False, 'contains(lives)': False, 'contains(hours)': False, 'contains(fine)': False, 'contains(solid)': False, 'contains(quirky)': False, 'contains(exercise)': False, 'contains(mind)': False, 'contains(play)': False, 'contains(along)': False, 'contains(obvious)': False, 'contains(sure)': False, 'contains(fresh)': False, 'contains(face)': False, 'contains(looks)': False, 'contains(whether)': False, 'contains(directed)': False, 'contains(ideas)': False, 'contains(leave)': False, 'contains(mess)': False, 'contains(either)': False, 'contains(french)': False, 'contains(completely)': False, 'contains(past)': False, 'contains(modern)': False, 'contains(energy)': False, 'contains(interest)': False, 'contains(powerful)': False, 'contains(shot)': True, 'contains(dramatic)': False, 'contains(viewers)': False, 'contains(neither)': False, 'contains(melodrama)': False, 'contains(reason)': False, 'contains(classic)': False, 'contains(fact)': False, 'contains(beyond)': False, 'contains(fails)': False, 'contains(tone)': False, 'contains(children)': False, 'contains(suspense)': False, 'contains(filmmaking)': False, 'contains(stuff)': False, \"contains(didn't)\": False, 'contains(recent)': False, 'contains(shows)': False, 'contains(delivers)': False, \"contains(i'm)\": False, 'contains(everyone)': False, 'contains(left)': False, 'contains(deeply)': False, 'contains(intriguing)': False, 'contains(slow)': False, 'contains(believe)': False, 'contains(culture)': False, 'contains(truly)': False, 'contains(serious)': False, 'contains(death)': False, 'contains(ends)': False, 'contains(himself)': False, 'contains(actor)': False, 'contains(jokes)': False, 'contains(tries)': False, 'contains(black)': False, 'contains(book)': False, 'contains(ride)': False, 'contains(touching)': False, 'contains(production)': False, 'contains(spirit)': False, 'contains(occasionally)': False, 'contains(tv)': False, 'contains(audiences)': False, 'contains(sad)': False, 'contains(small)': False, 'contains(light)': False, 'contains(adventure)': False, 'contains(reality)': False, 'contains(passion)': False, 'contains(remains)': False, 'contains(storytelling)': False, 'contains(proves)': False, 'contains(hilarious)': False, 'contains(dumb)': False, 'contains(satisfying)': False, 'contains(terrific)': False, 'contains(exactly)': False, 'contains(camera)': False, 'contains(opera)': False, 'contains(formula)': False, 'contains(role)': False, 'contains(seeing)': False, 'contains(project)': False, 'contains(got)': False, 'contains(filmmaker)': False, 'contains(talent)': False, 'contains(images)': False, 'contains(different)': False, 'contains(already)': False, 'contains(nor)': False, 'contains(must)': False, 'contains(impossible)': False, 'contains(scene)': False, 'contains(line)': False, 'contains(stories)': False, 'contains(above)': False, 'contains(personal)': False, 'contains(girl)': False, 'contains(perfect)': False, 'contains(particularly)': False, 'contains(journey)': False, 'contains(gags)': False, 'contains(easily)': False, 'contains(attempt)': False, 'contains(simple)': False, 'contains(honest)': False, 'contains(pleasure)': False, 'contains(pretentious)': False, 'contains(psychological)': False, 'contains(given)': False, 'contains(summer)': False, 'contains(turn)': False, 'contains(close)': False, 'contains(animation)': False, 'contains(sex)': False, 'contains(against)': False, 'contains(complex)': False, 'contains(intelligence)': False, 'contains(hour)': False, 'contains(falls)': False, 'contains(flat)': False, 'contains(ways)': False, 'contains(did)': False, 'contains(found)': False, 'contains(earnest)': False, 'contains(difficult)': False, 'contains(michael)': False, 'contains(case)': False, 'contains(political)': False, 'contains(cliches)': False, 'contains(visually)': False, 'contains(thought)': False, 'contains(social)': False, 'contains(mystery)': False, 'contains(coming-of-age)': False, 'contains(head)': False, 'contains(leaves)': False, 'contains(getting)': False, 'contains(sequel)': False, 'contains(writing)': False, 'contains(crime)': False, 'contains(memorable)': False, 'contains(uses)': False, 'contains(game)': False, 'contains(none)': False, 'contains(violence)': False, 'contains(que)': False, 'contains(tell)': False, 'contains(written)': False, 'contains(wrong)': False, 'contains(rich)': False, 'contains(told)': False, 'contains(live)': False, 'contains(side)': False, 'contains(gone)': False, 'contains(job)': False, 'contains(brilliant)': False, 'contains(keeps)': False, 'contains(satire)': False, 'contains(finally)': False, 'contains(help)': False, 'contains(laugh)': False, 'contains(overall)': False, 'contains(needs)': False, 'contains(cold)': False, 'contains(otherwise)': False, 'contains(novel)': False, 'contains(barely)': False, 'contains(contrived)': False, 'contains(elements)': False, 'contains(rarely)': False, 'contains(days)': False, 'contains(boy)': False, 'contains(second)': False, 'contains(cool)': False, 'contains(lost)': False, 'contains(spy)': False, 'contains(acted)': True, 'contains(imagine)': False, 'contains(possible)': False, 'contains(o)': False, 'contains(starts)': False, 'contains(approach)': False, 'contains(nature)': False, 'contains(several)': False, 'contains(appeal)': False, 'contains(thoughtful)': False, 'contains(taste)': False, 'contains(during)': False, 'contains(entirely)': False, 'contains(final)': False, 'contains(having)': False, 'contains(guys)': False, 'contains(moral)': False, 'contains(running)': False, 'contains(tragedy)': False, 'contains(truth)': False, 'contains(eyes)': False, 'contains(wonderful)': False, 'contains(warm)': False, 'contains(mood)': False, 'contains(creepy)': False, 'contains(act)': False, 'contains(excellent)': False, 'contains(perhaps)': False, 'contains(fairly)': False, 'contains(y)': False, 'contains(soap)': False, 'contains(lead)': False, 'contains(surprising)': False, 'contains(insight)': False, 'contains(concept)': False, 'contains(wild)': False, 'contains(others)': False, 'contains(tedious)': False, 'contains(result)': False, 'contains(themselves)': False, 'contains(remarkable)': False, 'contains(behind)': False, 'contains(hero)': False, 'contains(form)': False, 'contains(attention)': False, 'contains(emotionally)': False, 'contains(entire)': False, \"contains(they're)\": False, 'contains(thoroughly)': False, 'contains(expect)': False, 'contains(viewer)': False, 'contains(bring)': False, 'contains(among)': False, 'contains(comedies)': False, 'contains(imagination)': False, 'contains(quality)': False, 'contains(call)': False, 'contains(adults)': False, 'contains(david)': False, 'contains(engrossing)': False, 'contains(animated)': False, 'contains(tired)': False, 'contains(epic)': False, 'contains(remake)': False, 'contains(nice)': False, 'contains(future)': False, 'contains(add)': False, 'contains(adaptation)': False, 'contains(four)': False, 'contains(strange)': False, 'contains(sci-fi)': False, 'contains(\\x96)': False, 'contains(gorgeous)': False, 'contains(witty)': False, 'contains(genuine)': False, 'contains(vision)': False, 'contains(quiet)': False, 'contains(latest)': False, 'contains(bland)': False, 'contains(usual)': False, 'contains(disney)': False, \"contains(you'd)\": False, 'contains(rock)': False, 'contains(sharp)': False, 'contains(moment)': False, 'contains(knows)': False, 'contains(teen)': False, 'contains(start)': False, 'contains(perfectly)': False, 'contains(change)': False, \"contains(i've)\": False, 'contains(la)': False, 'contains(thanks)': False, 'contains(beauty)': False, 'contains(worse)': False, 'contains(appealing)': False, 'contains(begins)': False, 'contains(depth)': False, 'contains(taking)': False, 'contains(somewhat)': False, 'contains(until)': False, 'contains(worthy)': False, 'contains(plenty)': False, 'contains(deep)': False, 'contains(dead)': False, 'contains(period)': False, 'contains(impressive)': False, 'contains(points)': False, 'contains(maybe)': False, 'contains(offer)': False, 'contains(effective)': False, 'contains(merely)': False, 'contains(events)': False, 'contains(hope)': False, 'contains(gentle)': False, 'contains(wonder)': False, 'contains(parents)': False, 'contains(provides)': False, \"contains(year's)\": False, 'contains(stupid)': False, 'contains(try)': False, 'contains(emotions)': False, 'contains(definitely)': False, 'contains(sit)': False, 'contains(lots)': False, 'contains(clear)': False, 'contains(fantasy)': False, 'contains(career)': False, 'contains(awful)': False, 'contains(hit)': False, 'contains(guy)': False, 'contains(ambitious)': False, 'contains(however)': False, 'contains(woman)': False, 'contains(decent)': False, 'contains(captures)': False, 'contains(important)': False, 'contains(surprise)': False, 'contains(straight)': False, 'contains(air)': False, 'contains(writer-director)': False, 'contains(unfortunately)': False, 'contains(someone)': False, 'contains(pure)': False, 'contains(age)': False, 'contains(doing)': False, 'contains(robert)': False, 'contains(subtle)': False, 'contains(throughout)': False, 'contains(execution)': False, 'contains(historical)': False, 'contains(able)': False, 'contains(thin)': False, 'contains(exciting)': False, 'contains(pace)': False, 'contains(run)': False, 'contains(utterly)': False, 'contains(inside)': False, 'contains(magic)': False, 'contains(scary)': False, 'contains(pictures)': False, 'contains(welcome)': False, 'contains(view)': False, 'contains(ii)': False, 'contains(brings)': False, 'contains(highly)': False, 'contains(ugly)': False, 'contains(sequences)': False, 'contains(sound)': False, 'contains(school)': False, 'contains(suffers)': False, 'contains(certain)': False, 'contains(process)': False, 'contains(female)': False, 'contains(relationship)': False, 'contains(examination)': False, 'contains(fire)': False, 'contains(cheap)': False, 'contains(creative)': False, 'contains(alone)': False, 'contains(sexual)': False, 'contains(deserves)': False, 'contains(based)': False, 'contains(coming)': False, 'contains(read)': False, 'contains(sustain)': False, 'contains(ensemble)': False, 'contains(provocative)': False, 'contains(lovely)': False, 'contains(single)': False, 'contains(tension)': False, 'contains(wants)': False, 'contains(playing)': False, 'contains(chemistry)': False, 'contains(poignant)': False, 'contains(upon)': False, 'contains(except)': False, 'contains(memory)': False, 'contains(cartoon)': False, 'contains(used)': False, 'contains(quickly)': False, 'contains(question)': False, 'contains(across)': False, 'contains(potential)': False, 'contains(flaws)': False, 'contains(delightful)': False, 'contains(words)': False, 'contains(middle)': False, 'contains(hand)': False, 'contains(use)': False, 'contains(city)': False, 'contains(major)': False, 'contains(working)': False, 'contains(cute)': False, 'contains(impact)': False, 'contains(deal)': False, 'contains(felt)': False, 'contains(low)': False, 'contains(talented)': False, 'contains(touch)': False, 'contains(odd)': False, 'contains(sensitive)': False, 'contains(success)': False, 'contains(force)': False, 'contains(lacking)': False, 'contains(winning)': False, 'contains(unfunny)': False, 'contains(cultural)': False, 'contains(flawed)': False, 'contains(master)': False, 'contains(stand)': False, 'contains(2)': False, 'contains(rest)': False, 'contains(yes)': False, 'contains(taken)': False, 'contains(actress)': False, 'contains(bond)': False, 'contains(waste)': False, 'contains(loud)': False, 'contains(mediocre)': False, 'contains(puts)': False, 'contains(sentimental)': False, 'contains(creates)': False, 'contains(situation)': False, 'contains(murder)': False, 'contains(generic)': False, 'contains(unexpected)': False, 'contains(filled)': False, 'contains(slight)': False, 'contains(convincing)': False, 'contains(eye)': False, 'contains(era)': False, 'contains(issues)': False, 'contains(previous)': False, 'contains(cut)': False, 'contains(formulaic)': False, 'contains(routine)': False, 'contains(melodramatic)': False, 'contains(remember)': False, 'contains(unsettling)': False, 'contains(slightly)': False, 'contains(relationships)': False, 'contains(weird)': False, 'contains(saw)': False, 'contains(house)': False, 'contains(ultimate)': False, 'contains(hardly)': False, 'contains(ability)': False, 'contains(mark)': False, 'contains(surprises)': False, 'contains(extremely)': False, 'contains(seriously)': False, 'contains(sincere)': False, 'contains(ago)': False, 'contains(*)': False, 'contains(apart)': False, 'contains(create)': False, 'contains(mildly)': False, 'contains(watchable)': False, 'contains(dog)': False, 'contains(country)': False, 'contains(hell)': False, 'contains(supposed)': False, 'contains(college)': False, 'contains(hold)': False, 'contains(heavy)': False, 'contains(class)': False, 'contains(cannot)': False, 'contains(giving)': False, 'contains(reveals)': False, 'contains(course)': False, 'contains(amount)': False, 'contains(gripping)': False, \"contains(aren't)\": False, 'contains(ones)': False, 'contains(treat)': False, 'contains(leads)': False, 'contains(finds)': False, 'contains(focus)': False, 'contains(road)': False, 'contains(living)': False, 'contains(thinking)': False, 'contains(stars)': False, 'contains(artist)': False, 'contains(succeeds)': False, 'contains(grant)': False, 'contains(inventive)': False, 'contains(largely)': False, 'contains(five)': False, 'contains(steven)': False, 'contains(pacing)': False, 'contains(e)': False, 'contains(grace)': False, 'contains(fully)': False, 'contains(forgettable)': False, 'contains(casting)': False, 'contains(trouble)': False, 'contains(indeed)': False, 'contains(mix)': False, 'contains(uneven)': False, 'contains(george)': False, 'contains(date)': False, 'contains(extreme)': False, 'contains(twists)': False, 'contains(terms)': False, 'contains(pleasant)': False, 'contains(attempts)': False, 'contains(contemporary)': False, 'contains(crush)': False, 'contains(crazy)': False, 'contains(intimate)': False, 'contains(tragic)': False, 'contains(joke)': False, 'contains(plain)': False, 'contains(thrills)': False, 'contains(old-fashioned)': False, 'contains(episode)': False, 'contains(money)': False, 'contains(stylish)': False, 'contains(pop)': False, 'contains(involved)': False, 'contains(sets)': False, 'contains(unique)': False, 'contains(water)': False, 'contains(masterpiece)': False, 'contains(badly)': False, 'contains(disturbing)': False, 'contains(problems)': False, 'contains(poetry)': False, 'contains(painful)': False, 'contains(business)': False, 'contains(substance)': False, 'contains(colorful)': False, 'contains(absolutely)': False, 'contains(promise)': False, \"contains(we've)\": False, 'contains(couple)': False, 'contains(missing)': False, \"contains(she's)\": False, 'contains(presents)': False, 'contains(york)': False, 'contains(recommend)': False, 'contains(considerable)': False, 'contains(yourself)': False, 'contains(themes)': False, 'contains(successful)': False, 'contains(es)': False, 'contains(complete)': False, 'contains(called)': False, 'contains(appears)': False, 'contains(soundtrack)': False, 'contains(involving)': False, 'contains(happens)': False, 'contains(runs)': False, 'contains(goofy)': False, 'contains(drag)': False, 'contains(heaven)': False, 'contains(happy)': False, 'contains(friendship)': False, 'contains(williams)': False, 'contains(target)': False, 'contains(pieces)': False, 'contains(politics)': False, 'contains(tom)': False, 'contains(soul)': False, 'contains(person)': False, 'contains([a])': False, 'contains(urban)': False, 'contains(blend)': False, 'contains(terrible)': False, 'contains(sentimentality)': False, 'contains(share)': False, 'contains(meditation)': False, 'contains(skin)': False, 'contains(absorbing)': False, 'contains(imax)': False, 'contains(wanted)': False, 'contains(strangely)': False, 'contains(flicks)': False, 'contains(triumph)': False, 'contains(interested)': False, \"contains(man's)\": False, 'contains(situations)': False, 'contains(effect)': False, 'contains(forced)': False, 'contains(british)': False, 'contains(played)': False, 'contains(oscar)': False, 'contains(typical)': False, 'contains(manner)': False, 'contains(parts)': False, 'contains(originality)': False, 'contains(forget)': False, 'contains(somehow)': False, 'contains(viewing)': False, 'contains(refreshing)': False, 'contains(equally)': False, \"contains(couldn't)\": False, 'contains(gay)': False, 'contains(mean)': False, 'contains(hits)': False, 'contains(evil)': False, 'contains(bright)': False, 'contains(bizarre)': False, 'contains(loses)': False, \"contains(director's)\": False, 'contains(painfully)': False, 'contains(dry)': False, 'contains(means)': False, 'contains(monster)': False, 'contains(well-acted)': False, 'contains(please)': False, 'contains(clichés)': False, 'contains(doubt)': False, 'contains(name)': False, 'contains(grief)': False, 'contains(stunning)': False, 'contains(liked)': False, 'contains(tells)': False, 'contains(virtually)': False, 'contains(said)': False, 'contains(central)': False, 'contains(sophisticated)': False, 'contains(alive)': False, 'contains(conflict)': False, 'contains(depressing)': False, 'contains(word)': False, 'contains(questions)': False, 'contains(fast)': False, 'contains(understand)': False, 'contains(derivative)': False, 'contains(setting)': False, 'contains(crafted)': False, 'contains(energetic)': False, 'contains(standard)': False, 'contains(fare)': False, 'contains(hate)': False, 'contains(frame)': False, 'contains(poor)': False, 'contains(night)': False, 'contains(whatever)': False, 'contains(somewhere)': False, 'contains(report)': False, 'contains(franchise)': False, 'contains(haunting)': False, 'contains(jackson)': False, 'contains(company)': False, 'contains(fan)': False, 'contains(general)': False, 'contains(dream)': False, 'contains(miss)': False, 'contains(twist)': False, 'contains(loss)': False, 'contains(sexy)': False, 'contains(lame)': False, 'contains(90)': False, 'contains(el)': False, 'contains(average)': False, 'contains(television)': False, 'contains(obviously)': False, 'contains(created)': False, 'contains(battle)': False, 'contains(eventually)': False, 'contains(amazing)': False, 'contains(places)': False, 'contains(treasure)': False, 'contains(generally)': False, 'contains(inspired)': False, 'contains(fat)': False, 'contains(break)': False, 'contains(remarkably)': False, 'contains(japanese)': False, 'contains(conventional)': False, 'contains(holds)': False, 'contains(refreshingly)': False, 'contains(heavy-handed)': False, 'contains(superficial)': False, 'contains(faith)': False, 'contains(insightful)': False, 'contains(white)': False, 'contains(brain)': False, 'contains(room)': False, 'contains(imaginative)': False, 'contains(ms)': False, 'contains(tough)': False, 'contains(match)': False, 'contains(essentially)': False, 'contains(atmosphere)': False, 'contains(una)': False, 'contains(clearly)': False, 'contains(possibly)': False, 'contains(opportunity)': False, 'contains(popcorn)': False, 'contains(edge)': False, 'contains(huge)': False, 'contains(deliver)': False, 'contains(genuinely)': False, 'contains(girls)': False, 'contains(footage)': False, 'contains(lines)': False, 'contains(let)': False, 'contains(weak)': False, 'contains(finish)': False, 'contains(allows)': False, 'contains(wedding)': False, 'contains(price)': False, 'contains(worthwhile)': False, 'contains(unlike)': False, 'contains(blue)': False, 'contains(thought-provoking)': False, 'contains(boys)': False, 'contains(riveting)': False, 'contains(affecting)': False, 'contains(niro)': False, 'contains(slapstick)': False, 'contains(warmth)': False, 'contains(vivid)': False, 'contains(excitement)': False, 'contains(sitting)': False, 'contains(toward)': False, 'contains(red)': False, 'contains(lets)': False, 'contains(spielberg)': False, 'contains(equivalent)': False, 'contains(green)': False, 'contains(needed)': False, 'contains(core)': False, 'contains(treatment)': False, 'contains(ice)': False, 'contains(purpose)': False, 'contains(s)': False, 'contains(within)': False, 'contains(pay)': False, 'contains(trip)': False, 'contains(filmed)': False, 'contains(humanity)': False, 'contains(guilty)': False, 'contains(x)': False, 'contains(minor)': False, 'contains(powers)': False, 'contains(delicate)': False, 'contains(balance)': False, 'contains(large)': False, 'contains(car)': False, 'contains(wildly)': False, 'contains(damned)': False, 'contains(writer)': False, 'contains(wish)': False, \"contains(we're)\": False, 'contains(intended)': False, 'contains(peter)': False, 'contains(crowd)': False, 'contains(unusual)': False, 'contains(particular)': False, 'contains(wait)': False, 'contains(believable)': False, 'contains(slice)': False, 'contains(heartfelt)': False, 'contains(2002)': False, 'contains(lazy)': False, 'contains(shallow)': False, 'contains(usually)': False, 'contains(america)': False, 'contains(affair)': False, \"contains(hasn't)\": False, 'contains(fit)': False, 'contains(simplistic)': False, 'contains(aside)': False, 'contains(kid)': False, 'contains(spectacle)': False, 'contains(charisma)': False, 'contains(murphy)': False, 'contains(efforts)': False, 'contains(fiction)': False, 'contains(fear)': False, 'contains(revenge)': False, 'contains(space)': False, 'contains(extraordinary)': False, 'contains(party)': False, \"contains(who's)\": False, 'contains(god)': False, 'contains(ridiculous)': False, 'contains(credits)': False, 'contains(detail)': False, 'contains(directors)': False, 'contains(wife)': False, 'contains(exhilarating)': False, 'contains(theme)': False, \"contains(wasn't)\": False, 'contains(stale)': False, 'contains(greatest)': False, 'contains(mesmerizing)': False, 'contains(sequence)': False, 'contains(further)': False, 'contains(natural)': False, 'contains(gangster)': False, 'contains(motion)': False, 'contains(funnier)': False, 'contains(combination)': False, \"contains(wouldn't)\": False, 'contains(promising)': False, 'contains(universal)': False, 'contains(offering)': False, 'contains(bears)': False, 'contains(skill)': False, 'contains(poorly)': False, 'contains(delight)': False, \"contains(i'd)\": False, 'contains(directorial)': False, 'contains(realistic)': False, 'contains(editing)': False, 'contains(score)': False, 'contains(devoid)': False, 'contains(fashion)': False, 'contains(open)': False, 'contains(decades)': False, 'contains(indie)': False, 'contains(sea)': False, 'contains(mindless)': False, 'contains(dreams)': False, 'contains(vehicle)': False, 'contains(quietly)': False, 'contains(stay)': False, 'contains(deftly)': False, 'contains(spectacular)': False, 'contains(deeper)': False, 'contains(talk)': False, 'contains(festival)': False, 'contains(sounds)': False, 'contains(figure)': False, 'contains(meaning)': False, 'contains(longer)': False, 'contains(sports)': False, 'contains(telling)': False, 'contains(empty)': False, 'contains(sum)': False, 'contains(spiritual)': False, 'contains(holes)': False, 'contains(stunts)': False, 'contains(turned)': False, 'contains(crimes)': False, 'contains(\\x97)': False, 'contains(stage)': False, 'contains(exploration)': False, 'contains(j)': False, 'contains(strength)': False, 'contains(king)': False, 'contains(manipulative)': False, 'contains(shots)': False, 'contains(development)': False, 'contains(roger)': False, 'contains(represents)': False, 'contains(intense)': False, 'contains(achieves)': False, 'contains(poetic)': False, 'contains(society)': False, 'contains(values)': False, 'contains(disguise)': False, 'contains(gross-out)': False, 'contains(paced)': False, 'contains(frequently)': False, 'contains(affection)': False, 'contains(surface)': False, 'contains(james)': False, 'contains(results)': False, 'contains(perspective)': False, 'contains(count)': False, 'contains(pointless)': False, 'contains(visuals)': False, 'contains(behavior)': False, 'contains(performers)': False, 'contains(reading)': False, 'contains(sight)': False, 'contains(farce)': False, 'contains(free)': False, 'contains(cinematography)': False, 'contains(move)': False, 'contains(allen)': False, 'contains(repetitive)': False, 'contains(number)': False, 'contains(shame)': False, 'contains(consider)': False, 'contains(value)': False, 'contains(dreary)': False, 'contains(chase)': False, 'contains(constructed)': False, 'contains(public)': False, 'contains(10)': False, 'contains(justice)': False, 'contains(identity)': False, 'contains(prove)': False, 'contains(pleasures)': False, 'contains(provide)': False, 'contains(talking)': False, 'contains(win)': False, \"contains(haven't)\": False, 'contains(release)': False, 'contains(awkward)': False, 'contains(profound)': False, 'contains(daring)': False, 'contains(expected)': False, 'contains(irritating)': False, 'contains(endearing)': False, 'contains(gem)': False, 'contains(oddly)': False, 'contains(generation)': False, 'contains(blade)': False, 'contains(credit)': False, 'contains(striking)': False, 'contains(members)': False, 'contains(avoid)': False, 'contains(accessible)': False, 'contains(complicated)': False, 'contains(overly)': False, 'contains(century)': False, 'contains(martin)': False, 'contains(desire)': False, 'contains(kevin)': False, 'contains(nonsense)': False, 'contains(ground)': False, 'contains(emerges)': False, 'contains(courage)': False, 'contains(walk)': False, 'contains(produced)': False, \"contains(story's)\": False, 'contains(presence)': False, 'contains(stands)': False, 'contains(determined)': False, 'contains(brown)': False, 'contains(voice)': False, 'contains(marks)': False, 'contains(diverting)': False, 'contains(glimpse)': False, 'contains(group)': False, 'contains(friends)': False, 'contains(concerned)': False, 'contains(killer)': False, 'contains(folks)': False, 'contains(blood)': False, 'contains(subjects)': False, 'contains(chance)': False, 'contains(bits)': False, 'contains(save)': False, 'contains(predecessor)': False, 'contains(admirable)': False, 'contains(loved)': False, 'contains(chilling)': False, 'contains(structure)': False, 'contains(damn)': False, 'contains(moviemaking)': False, 'contains(giant)': False, 'contains(incredibly)': False, 'contains(tiresome)': False, 'contains(struggle)': False, 'contains(thinks)': False, 'contains(musical)': False, 'contains(beat)': False, 'contains(follow)': False, 'contains(artistic)': False, 'contains(challenging)': False, 'contains(yarn)': False, 'contains(raw)': False, 'contains(enjoyed)': False, 'contains(offensive)': False, 'contains(trifle)': False, 'contains(shake)': False, 'contains(adam)': False, 'contains(frustrating)': False, 'contains(hot)': False, 'contains(ring)': False, 'contains(friday)': False, 'contains(top)': False, 'contains(waiting)': False, 'contains(example)': False, 'contains(games)': False, 'contains(ghost)': False, 'contains(um)': False, 'contains(del)': False, 'contains(weight)': False, 'contains(tribute)': False, 'contains(beneath)': False, 'contains(unless)': False, 'contains(failure)': False, 'contains(happen)': False, 'contains(wise)': False, 'contains(designed)': False, 'contains(levels)': False, 'contains(songs)': False, 'contains(intrigue)': False, 'contains(delivered)': False, 'contains(overcome)': False, 'contains(machine)': False, 'contains(main)': False, 'contains(necessary)': False, 'contains(commercial)': False, 'contains(community)': False, 'contains(screenwriter)': False, 'contains(hackneyed)': False, 'contains(using)': False, 'contains(ages)': False, 'contains(fears)': False, 'contains(attraction)': False, 'contains(serves)': False, 'contains(intentions)': False, 'contains(imagery)': False, 'contains(buy)': False, 'contains(pulls)': False, 'contains(nicely)': False, 'contains(nowhere)': False, 'contains(clumsy)': False, 'contains(numbers)': False, 'contains(return)': False, 'contains(fair)': False, 'contains(adolescent)': False, 'contains(meandering)': False, 'contains(vibrant)': False, 'contains(surely)': False, 'contains(team)': False, 'contains(jones)': False, 'contains(parker)': False, \"contains('the)\": False, 'contains(eight)': False, 'contains(search)': False, 'contains(mike)': False, 'contains(list)': False, 'contains(scenario)': False, 'contains(outrageous)': False, 'contains(reach)': False, 'contains(directing)': False, 'contains(funniest)': False, 'contains(bore)': False, 'contains(twice)': False, 'contains(national)': False, 'contains(delivery)': False, 'contains(jason)': False, 'contains(b-movie)': False, \"contains(world's)\": False, 'contains(document)': False, 'contains(damage)': False, 'contains(first-time)': False, 'contains(talents)': False, 'contains(spend)': False, 'contains(fall)': False, 'contains(bittersweet)': False, 'contains(realism)': False, 'contains(bunch)': False, 'contains(adult)': False, 'contains(desperate)': False, 'contains(sappy)': False, 'contains(unpleasant)': False, \"contains(characters')\": False, 'contains(disappointing)': False, 'contains(modest)': False, 'contains(moviegoers)': False, 'contains(chinese)': False, 'contains(wry)': False, 'contains(deserve)': False, 'contains(industry)': False, 'contains(father)': False, 'contains(winds)': False, 'contains(sheer)': False, 'contains(type)': False, 'contains(authentic)': False, 'contains(budget)': False, 'contains(creating)': False, 'contains(flair)': False, 'contains(present)': False, 'contains(dazzling)': False, 'contains(matters)': False, 'contains(vs)': False, 'contains(land)': False, 'contains(broad)': False, 'contains(today)': False, 'contains(un)': False, 'contains(humorous)': False, \"contains(i'll)\": False, 'contains(digital)': False, 'contains(accomplished)': False, 'contains(violent)': False, 'contains(emotion)': False, 'contains(dance)': False, 'contains(cause)': False, 'contains(maudlin)': False, 'contains(studio)': False, 'contains(excuse)': False, 'contains(stock)': False, 'contains(overwrought)': False, 'contains(body)': False, 'contains(inspiring)': False, 'contains(roles)': False, 'contains(superior)': False, 'contains(seat)': False, 'contains(standards)': False, 'contains(precious)': False, 'bigram(. .)': False, 'bigram(. the)': False, 'bigram(. a)': False, 'bigram(of the)': False, 'bigram(, but)': False, 'bigram(, and)': False, 'bigram(in the)': False, 'bigram(the film)': False, 'bigram(is a)': False, \"bigram(. it's)\": False, 'bigram(, the)': False, 'bigram(of a)': False, 'bigram(to the)': False, 'bigram(and the)': False, 'bigram(to be)': False, 'bigram(the movie)': False, 'bigram(. this)': False, 'bigram(. it)': False, 'bigram(for the)': False, 'bigram(it is)': False, 'bigram(with a)': False, 'bigram(. an)': False, 'bigram(as a)': False, 'bigram(in a)': False, 'bigram(on the)': False, 'bigram(one of)': False, 'bigram(and a)': False, 'bigram(this is)': False, 'bigram(a movie)': False, \"bigram(it's a)\": False, 'bigram(, it)': False, 'bigram(. if)': False, 'bigram(with the)': False, 'bigram(film is)': False, 'bigram(like a)': False, 'bigram(, a)': False, 'bigram(for a)': False, 'bigram(it .)': False, 'bigram(the most)': False, 'bigram(film .)': False, 'bigram(. but)': False, 'bigram(but it)': False, 'bigram(of its)': False, 'bigram(movie .)': False, \"bigram(, it's)\": False, 'bigram(, this)': False, 'bigram(a film)': False, 'bigram(as the)': False, 'bigram(from the)': False, 'bigram(. i)': False, 'bigram(at the)': False, 'bigram(all the)': False, 'bigram(by the)': False, 'bigram(movie is)': False, 'bigram(but the)': False, 'bigram(in its)': False, 'bigram(is the)': False, 'bigram(more than)': False, 'bigram(. as)': False, 'bigram(kind of)': False, 'bigram(that is)': False, 'bigram(about the)': False, 'bigram(, with)': False, 'bigram(film that)': False, 'bigram(movie ,)': False, 'bigram(film ,)': False, \"bigram(the film's)\": False, 'bigram(the story)': False, 'bigram(to a)': False, 'bigram(this movie)': False, 'bigram(has a)': False, 'bigram(have been)': False, 'bigram(movie that)': False, 'bigram(that it)': False, 'bigram(to make)': False, 'bigram(that the)': False, 'bigram(. what)': False, 'bigram(into the)': False, 'bigram(out of)': False, 'bigram(in this)': False, 'bigram(the best)': False, 'bigram(, as)': False, 'bigram(. in)': False, 'bigram(as it)': False, \"bigram(. there's)\": False, 'bigram(a good)': False, 'bigram(, is)': False, 'bigram(. \")': False, \"bigram(. ')\": False, 'bigram(. one)': False, 'bigram(. while)': False, \"bigram(but it's)\": False, 'bigram(if you)': False, 'bigram(its own)': False, 'bigram(sense of)': False, 'bigram(this film)': False, 'bigram(. there)': False, 'bigram(the same)': False, 'bigram(enough to)': False, 'bigram(is an)': False, 'bigram(be a)': False, 'bigram(into a)': False, 'bigram(is that)': False, 'bigram(to see)': False, 'bigram(is so)': False, 'bigram(a lot)': False, 'bigram(is not)': False, 'bigram(, which)': False, 'bigram(-- and)': False, 'bigram(, in)': False, 'bigram(. for)': False, 'bigram(. like)': False, 'bigram(. you)': False, 'bigram(comedy .)': False, 'bigram(than a)': False, 'bigram(the first)': False, 'bigram(time .)': False, 'bigram(a few)': False, 'bigram(look at)': False, 'bigram(a little)': False, 'bigram(on a)': False, 'bigram(the characters)': False, 'bigram(the end)': False, 'bigram(. and)': False, 'bigram(of this)': False, 'bigram(. with)': False, 'bigram(from a)': False, 'bigram(of an)': False, 'bigram(than the)': False, 'bigram(. not)': False, 'bigram(may be)': False, 'bigram(the way)': False, 'bigram(, you)': False, 'bigram(there is)': False, 'bigram(funny ,)': False, \"bigram(it's not)\": False, 'bigram(story .)': False, 'bigram(a great)': False, 'bigram(and ,)': False, 'bigram(by a)': False, 'bigram(of his)': False, 'bigram(mr .)': False, 'bigram(. even)': False, 'bigram(the kind)': False, 'bigram(you can)': False, 'bigram(, i)': False, 'bigram(not a)': False, 'bigram(there are)': False, 'bigram(hard to)': False, 'bigram(like the)': False, 'bigram(so much)': False, 'bigram(to watch)': False, 'bigram(. though)': False, 'bigram(most of)': False, 'bigram(them .)': False, 'bigram(, even)': False, 'bigram(, if)': False, 'bigram(is one)': False, 'bigram(, who)': False, 'bigram(about a)': False, 'bigram(manages to)': False, 'bigram(of those)': False, 'bigram(would be)': False, 'bigram(for its)': False, 'bigram(romantic comedy)': False, 'bigram(want to)': False, 'bigram(and his)': False, 'bigram(such a)': False, 'bigram(the audience)': False, 'bigram(, or)': False, 'bigram(at least)': False, 'bigram(to have)': False, 'bigram(work .)': False, 'bigram(, not)': False, 'bigram(a very)': False, 'bigram(could have)': False, 'bigram(much of)': False, 'bigram(it ,)': False, 'bigram(it has)': False, 'bigram(story ,)': False, 'bigram(with an)': False, 'bigram(as an)': False, 'bigram(have a)': False, 'bigram(in which)': False, 'bigram(that ,)': False, 'bigram(the plot)': False, 'bigram(through the)': False, 'bigram(trying to)': False, 'bigram(full of)': False, 'bigram(if the)': False, 'bigram(some of)': False, 'bigram(to get)': False, 'bigram(. despite)': False, 'bigram(as if)': False, 'bigram(in his)': False, \"bigram(the movie's)\": False, 'bigram(with its)': False, 'bigram(and its)': False, 'bigram(characters .)': False, \"bigram(if you're)\": False, 'bigram(of it)': False, 'bigram(should be)': False, 'bigram(will be)': False, 'bigram(. is)': False, 'bigram(and an)': False, 'bigram(can be)': False, 'bigram(is ,)': False, \"bigram(it doesn't)\": False, 'bigram(lot of)': False, 'bigram(one .)': False, 'bigram(seems to)': False, 'bigram(up to)': False, 'bigram(. at)': False, 'bigram(. too)': False, 'bigram(if it)': False, 'bigram(on its)': False, \"bigram(that it's)\": False, 'bigram(too much)': False, 'bigram(would have)': False, 'bigram(life .)': False, 'bigram(portrait of)': False, 'bigram(sort of)': False, 'bigram(the only)': False, 'bigram(. just)': False, 'bigram(a bad)': False, 'bigram(a story)': False, 'bigram(as well)': False, 'bigram(characters ,)': False, 'bigram(piece of)': False, 'bigram(, \")': False, 'bigram(, so)': False, 'bigram(, though)': False, 'bigram(a bit)': False, 'bigram(this one)': False, 'bigram(. its)': False, 'bigram(of all)': False, 'bigram(rather than)': False, 'bigram(the whole)': False, 'bigram(when it)': False, 'bigram(\" is)': False, 'bigram(, that)': False, 'bigram(at times)': False, 'bigram(drama .)': False, 'bigram(has the)': False, 'bigram(it was)': False, 'bigram(lack of)': False, 'bigram(not only)': False, 'bigram(. although)': False, 'bigram(be the)': False, 'bigram(funny .)': False, \"bigram(it's the)\": False, 'bigram(to say)': False, 'bigram(, like)': False, 'bigram(and it)': False, 'bigram(even if)': False, 'bigram(for all)': False, 'bigram(has been)': False, 'bigram(is just)': False, 'bigram(the script)': False, 'bigram(to do)': False, 'bigram(at a)': False, 'bigram(end ,)': False, 'bigram(film about)': False, 'bigram(have to)': False, 'bigram(in an)': False, 'bigram(the big)': False, 'bigram(the original)': False, 'bigram(the year)': False, \"bigram(there's no)\": False, 'bigram(to keep)': False, 'bigram(. all)': False, 'bigram(. has)': False, 'bigram(. no)': False, 'bigram(at its)': False, 'bigram(fun .)': False, 'bigram(it all)': False, 'bigram(it would)': False, 'bigram(just a)': False, 'bigram(tale of)': False, 'bigram(that makes)': False, 'bigram(the screen)': False, 'bigram(way .)': False, 'bigram(while the)': False, 'bigram() ,)': False, 'bigram(. so)': False, 'bigram(feels like)': False, 'bigram(is more)': False, 'bigram(it does)': False, 'bigram(that you)': False, 'bigram(the worst)': False, 'bigram(, no)': False, 'bigram(, one)': False, 'bigram(. when)': False, \"bigram(and it's)\": False, 'bigram(going to)': False, 'bigram(is as)': False, 'bigram(over the)': False, 'bigram(the last)': False, 'bigram(\" the)': False, 'bigram(. director)': False, 'bigram(. that)': False, 'bigram(comedy that)': False, 'bigram(instead of)': False, 'bigram(may not)': False, 'bigram(screen .)': False, 'bigram(the performances)': False, 'bigram(those who)': False, 'bigram(to find)': False, 'bigram(to its)': False, 'bigram(, at)': False, 'bigram(, its)': False, 'bigram(, then)': False, 'bigram(-- but)': False, 'bigram(but not)': False, 'bigram(funny and)': False, 'bigram(not to)': False, 'bigram(that will)': False, 'bigram(the picture)': False, 'bigram(the right)': False, 'bigram(the time)': False, 'bigram(year .)': False, 'bigram(, an)': False, 'bigram(all of)': False, 'bigram(and even)': False, 'bigram(be .)': False, 'bigram(better than)': False, 'bigram(documentary .)': False, 'bigram(is .)': False, 'bigram(is in)': False, 'bigram(it may)': False, 'bigram(the cast)': False, 'bigram(too many)': False, 'bigram(way to)': False, 'bigram(which is)': False, 'bigram(( and)': False, 'bigram(, to)': False, 'bigram(, too)': False, 'bigram(. by)': False, 'bigram(a fascinating)': False, 'bigram(a long)': False, 'bigram(but a)': False, 'bigram(film with)': False, 'bigram(humor .)': False, 'bigram(might have)': False, 'bigram(story is)': False, 'bigram(the filmmakers)': False, 'bigram(the theater)': False, 'bigram(time ,)': False, 'bigram(when the)': False, 'bigram(, while)': False, 'bigram(a new)': False, 'bigram(all its)': False, 'bigram(and more)': False, 'bigram(and not)': False, 'bigram(audience .)': False, 'bigram(is to)': False, 'bigram(is too)': False, 'bigram(makes the)': False, \"bigram(there's a)\": False, 'bigram(to take)': False, 'bigram(version of)': False, 'bigram(what is)': False, 'bigram(as much)': False, 'bigram(by its)': False, 'bigram(characters and)': False, 'bigram(comedy ,)': False, 'bigram(fails to)': False, \"bigram(it's hard)\": False, 'bigram(make a)': False, 'bigram(make it)': False, 'bigram(movie with)': False, 'bigram(of their)': False, 'bigram(off the)': False, 'bigram(plays like)': False, 'bigram(should have)': False, 'bigram(the director)': False, 'bigram(work of)': False, 'bigram(, for)': False, 'bigram(, we)': False, 'bigram(. some)': False, 'bigram(a real)': False, 'bigram(but this)': False, 'bigram(exercise in)': False, 'bigram(film has)': False, 'bigram(people who)': False, 'bigram(performances .)': False, 'bigram(the fact)': False, 'bigram(the other)': False, 'bigram(the world)': False, 'bigram(well as)': False, 'bigram(, more)': False, 'bigram(-- the)': False, 'bigram(. to)': False, 'bigram(a big)': False, 'bigram(and then)': False, 'bigram(because it)': False, 'bigram(of these)': False, 'bigram(out to)': False, 'bigram(part of)': False, 'bigram(special effects)': False, 'bigram(than it)': False, 'bigram(the more)': False, 'bigram(the very)': False, 'bigram(times ,)': False, 'bigram(, especially)': False, 'bigram(. more)': False, 'bigram(. we)': False, 'bigram(a way)': False, 'bigram(about as)': False, 'bigram(but also)': False, 'bigram(characters are)': False, 'bigram(despite its)': False, 'bigram(even the)': False, 'bigram(far more)': False, 'bigram(good ,)': False, 'bigram(here .)': False, 'bigram(it a)': False, \"bigram(it's also)\": False, \"bigram(it's just)\": False, 'bigram(just as)': False, 'bigram(might be)': False, 'bigram(none of)': False, 'bigram(of what)': False, 'bigram(see it)': False, 'bigram(story and)': False, 'bigram(subject matter)': False, 'bigram(thriller .)': False, 'bigram(you have)': False, \"bigram(, ')\": False, 'bigram(-- a)': False, 'bigram(a more)': False, 'bigram(fact that)': False, 'bigram(film of)': False, 'bigram(here ,)': False, 'bigram(his own)': False, 'bigram(is about)': False, 'bigram(it makes)': False, 'bigram(it to)': False, \"bigram(it's an)\": False, 'bigram(minutes .)': False, 'bigram(moments of)': False, \"bigram(that doesn't)\": False, 'bigram(that has)': False, 'bigram(the actors)': False, 'bigram(tries to)': False, 'bigram(way ,)': False, 'bigram(what it)': False, 'bigram(. nothing)': False, 'bigram(a comedy)': False, 'bigram(able to)': False, 'bigram(all .)': False, 'bigram(and that)': False, 'bigram(entertainment .)': False, 'bigram(films .)': False, 'bigram(how to)': False, 'bigram(like this)': False, 'bigram(lots of)': False, 'bigram(make the)': False, 'bigram(makes it)': False, 'bigram(movies ,)': False, 'bigram(movies .)': False, 'bigram(much more)': False, 'bigram(not be)': False, 'bigram(one that)': False, 'bigram(out the)': False, 'bigram(performances ,)': False, 'bigram(series of)': False, 'bigram(that are)': False, 'bigram(to give)': False, 'bigram(up .)': False, 'bigram(up in)': False, 'bigram(way of)': False, 'bigram(work ,)': False, 'bigram(you might)': False, 'bigram(, yet)': False, \"bigram(, you'll)\": False, 'bigram(a compelling)': False, 'bigram(and in)': False, 'bigram(as its)': False, 'bigram(care about)': False, 'bigram(each other)': False, 'bigram(examination of)': False, 'bigram(for this)': False, 'bigram(heart .)': False, 'bigram(humor and)': False, 'bigram(in all)': False, 'bigram(likely to)': False, 'bigram(little more)': False, 'bigram(long ,)': False, 'bigram(looking for)': False, 'bigram(of love)': False, 'bigram(of movie)': False, 'bigram(or the)': False, 'bigram(so many)': False, 'bigram(story of)': False, 'bigram(story that)': False, 'bigram(that this)': False, 'bigram(the material)': False, 'bigram(the title)': False, 'bigram(to go)': False}\n"
     ]
    }
   ],
   "source": [
    "# use this function to create feature sets for all sentences\n",
    "bigram_featuresets = [(bigram_document_features(d, word_features, bigram_features), c) for (d, c) in documents]\n",
    "\n",
    "# number of features for document 0\n",
    "print(len(bigram_featuresets[0][0].keys()))\n",
    "\n",
    "# features in document 0\n",
    "print(bigram_featuresets[0][0])"
   ]
  },
  {
   "cell_type": "code",
   "execution_count": 18,
   "metadata": {},
   "outputs": [
    {
     "data": {
      "text/plain": [
       "0.738"
      ]
     },
     "execution_count": 18,
     "metadata": {},
     "output_type": "execute_result"
    }
   ],
   "source": [
    "# train a classifier and report accuracy\n",
    "train_set, test_set = bigram_featuresets[1000:], bigram_featuresets[:1000]\n",
    "classifier = nltk.NaiveBayesClassifier.train(train_set)\n",
    "nltk.classify.accuracy(classifier, test_set)"
   ]
  },
  {
   "cell_type": "code",
   "execution_count": 19,
   "metadata": {},
   "outputs": [
    {
     "name": "stdout",
     "output_type": "stream",
     "text": [
      "    |   n   p |\n",
      "    |   e   o |\n",
      "    |   g   s |\n",
      "----+---------+\n",
      "neg |<371>124 |\n",
      "pos | 138<367>|\n",
      "----+---------+\n",
      "(row = reference; col = test)\n",
      "\n",
      "pos precision: 0.7474541751527495\n",
      "pos recall: 0.7267326732673267\n",
      "pos F-measure: 0.7369477911646586\n",
      "neg precision: 0.7288801571709234\n",
      "neg recall: 0.7494949494949495\n",
      "neg F-measure: 0.7390438247011953\n"
     ]
    }
   ],
   "source": [
    "# evaluation measures showing performance of classifier\n",
    "from nltk.metrics import *\n",
    "reflist = []\n",
    "testlist = []\n",
    "for (features, label) in test_set:\n",
    "    reflist.append(label)\n",
    "    testlist.append(classifier.classify(features))\n",
    "    \n",
    "# Confusion matrix gives true positives, false negatives, false positives, and true negatives\n",
    "#   where we interpret female as \"yes\" and male as \"no\"\n",
    "cm = ConfusionMatrix(reflist, testlist)\n",
    "print(cm)\n",
    "\n",
    "# define a set of item identifiers that are gold labels and a set of item identifiers that are predicted labels\n",
    "# this uses index numbers for the labels\n",
    "refpos = set([i for i,label in enumerate(reflist) if label == 'pos'])\n",
    "refneg = set([i for i,label in enumerate(reflist) if label == 'neg'])\n",
    "testpos = set([i for i,label in enumerate(testlist) if label == 'pos'])\n",
    "testneg = set([i for i,label in enumerate(testlist) if label == 'neg'])\n",
    "\n",
    "# compute precision, recall and F-measure for each label\n",
    "\n",
    "def printmeasures(label, refset, testset):\n",
    "    print(label, 'precision:', precision(refset, testset))\n",
    "    print(label, 'recall:', recall(refset, testset)) \n",
    "    print(label, 'F-measure:', f_measure(refset, testset))\n",
    "\n",
    "printmeasures('pos', refpos, testpos)\n",
    "printmeasures('neg', refneg, testneg)"
   ]
  },
  {
   "cell_type": "code",
   "execution_count": 20,
   "metadata": {
    "collapsed": true
   },
   "outputs": [],
   "source": [
    "# this function takes a document list of words and returns a feature dictionary\n",
    "# it runs the default pos tagger (the Stanford tagger) on the document\n",
    "#   and counts 4 types of pos tags to use as features\n",
    "def POS_features(document, word_features):\n",
    "    document_words = set(document)\n",
    "    tagged_words = nltk.pos_tag(document)\n",
    "    features = {}\n",
    "    for word in word_features:\n",
    "        features['contains({})'.format(word)] = (word in document_words)\n",
    "    numNoun = 0\n",
    "    numVerb = 0\n",
    "    numAdj = 0\n",
    "    numAdverb = 0\n",
    "    for (word, tag) in tagged_words:\n",
    "        if tag.startswith('N'): numNoun += 1\n",
    "        if tag.startswith('V'): numVerb += 1\n",
    "        if tag.startswith('J'): numAdj += 1\n",
    "        if tag.startswith('R'): numAdverb += 1\n",
    "    features['nouns'] = numNoun\n",
    "    features['verbs'] = numVerb\n",
    "    features['adjectives'] = numAdj\n",
    "    features['adverbs'] = numAdverb\n",
    "    return features"
   ]
  },
  {
   "cell_type": "code",
   "execution_count": 21,
   "metadata": {},
   "outputs": [
    {
     "name": "stdout",
     "output_type": "stream",
     "text": [
      "1504\n"
     ]
    }
   ],
   "source": [
    "# define feature sets using this function\n",
    "POS_featuresets = [(POS_features(d, word_features), c) for (d, c) in documents]\n",
    "# number of features for document 0\n",
    "print(len(POS_featuresets[0][0].keys()))"
   ]
  },
  {
   "cell_type": "code",
   "execution_count": 22,
   "metadata": {},
   "outputs": [
    {
     "name": "stdout",
     "output_type": "stream",
     "text": [
      "([\"it's\", 'coherent', ',', 'well', 'shot', ',', 'and', 'tartly', 'acted', ',', 'but', 'it', 'wears', 'you', 'down', 'like', 'a', 'dinner', 'guest', 'showing', 'off', 'his', 'doctorate', '.'], 'neg')\n",
      "num nouns 4\n",
      "num verbs 3\n",
      "num adjectives 2\n",
      "num adverbs 4\n"
     ]
    }
   ],
   "source": [
    "# the first sentence\n",
    "print(documents[0])\n",
    "# the pos tag features for this sentence\n",
    "print('num nouns', POS_featuresets[0][0]['nouns'])\n",
    "print('num verbs', POS_featuresets[0][0]['verbs'])\n",
    "print('num adjectives', POS_featuresets[0][0]['adjectives'])\n",
    "print('num adverbs', POS_featuresets[0][0]['adverbs'])"
   ]
  },
  {
   "cell_type": "code",
   "execution_count": 23,
   "metadata": {},
   "outputs": [
    {
     "data": {
      "text/plain": [
       "0.725"
      ]
     },
     "execution_count": 23,
     "metadata": {},
     "output_type": "execute_result"
    }
   ],
   "source": [
    "# train and test the classifier\n",
    "train_set, test_set = POS_featuresets[1000:], POS_featuresets[:1000]\n",
    "classifier = nltk.NaiveBayesClassifier.train(train_set)\n",
    "nltk.classify.accuracy(classifier, test_set)"
   ]
  },
  {
   "cell_type": "code",
   "execution_count": 24,
   "metadata": {},
   "outputs": [
    {
     "name": "stdout",
     "output_type": "stream",
     "text": [
      "    |   n   p |\n",
      "    |   e   o |\n",
      "    |   g   s |\n",
      "----+---------+\n",
      "neg |<365>130 |\n",
      "pos | 145<360>|\n",
      "----+---------+\n",
      "(row = reference; col = test)\n",
      "\n",
      "pos precision: 0.7346938775510204\n",
      "pos recall: 0.7128712871287128\n",
      "pos F-measure: 0.7236180904522613\n",
      "neg precision: 0.7156862745098039\n",
      "neg recall: 0.7373737373737373\n",
      "neg F-measure: 0.7263681592039801\n"
     ]
    }
   ],
   "source": [
    "# evaluation measures showing performance of classifier\n",
    "from nltk.metrics import *\n",
    "reflist = []\n",
    "testlist = []\n",
    "for (features, label) in test_set:\n",
    "    reflist.append(label)\n",
    "    testlist.append(classifier.classify(features))\n",
    "    \n",
    "# Confusion matrix gives true positives, false negatives, false positives, and true negatives\n",
    "#   where we interpret female as \"yes\" and male as \"no\"\n",
    "cm = ConfusionMatrix(reflist, testlist)\n",
    "print(cm)\n",
    "\n",
    "# define a set of item identifiers that are gold labels and a set of item identifiers that are predicted labels\n",
    "# this uses index numbers for the labels\n",
    "refpos = set([i for i,label in enumerate(reflist) if label == 'pos'])\n",
    "refneg = set([i for i,label in enumerate(reflist) if label == 'neg'])\n",
    "testpos = set([i for i,label in enumerate(testlist) if label == 'pos'])\n",
    "testneg = set([i for i,label in enumerate(testlist) if label == 'neg'])\n",
    "\n",
    "# compute precision, recall and F-measure for each label\n",
    "\n",
    "def printmeasures(label, refset, testset):\n",
    "    print(label, 'precision:', precision(refset, testset))\n",
    "    print(label, 'recall:', recall(refset, testset)) \n",
    "    print(label, 'F-measure:', f_measure(refset, testset))\n",
    "\n",
    "printmeasures('pos', refpos, testpos)\n",
    "printmeasures('neg', refneg, testneg)\n"
   ]
  },
  {
   "cell_type": "code",
   "execution_count": 25,
   "metadata": {},
   "outputs": [
    {
     "name": "stdout",
     "output_type": "stream",
     "text": [
      "{'contains(.)': True, 'contains(the)': False, 'contains(,)': True, 'contains(a)': True, 'contains(and)': True, 'contains(of)': False, 'contains(to)': False, 'contains(is)': False, 'contains(in)': False, 'contains(that)': False, 'contains(it)': True, 'contains(as)': False, 'contains(but)': True, 'contains(with)': False, 'contains(film)': False, 'contains(this)': False, 'contains(for)': False, 'contains(its)': False, 'contains(an)': False, 'contains(movie)': False, \"contains(it's)\": True, 'contains(be)': False, 'contains(on)': False, 'contains(you)': True, 'contains(not)': False, 'contains(by)': False, 'contains(about)': False, 'contains(one)': False, 'contains(more)': False, 'contains(like)': True, 'contains(has)': False, 'contains(are)': False, 'contains(at)': False, 'contains(from)': False, 'contains(than)': False, 'contains(\")': False, 'contains(all)': False, 'contains(--)': False, 'contains(his)': True, 'contains(have)': False, 'contains(so)': False, 'contains(if)': False, 'contains(or)': False, 'contains(story)': False, 'contains(i)': False, 'contains(too)': False, 'contains(just)': False, 'contains(who)': False, 'contains(into)': False, 'contains(what)': False, 'contains(most)': False, 'contains(out)': False, 'contains(no)': False, 'contains(much)': False, 'contains(even)': False, 'contains(good)': False, 'contains(up)': False, 'contains(will)': False, 'contains(comedy)': False, 'contains(time)': False, 'contains(can)': False, 'contains(some)': False, 'contains(characters)': False, 'contains(only)': False, 'contains(little)': False, 'contains(way)': False, 'contains(their)': False, 'contains(funny)': False, 'contains(make)': False, 'contains(enough)': False, 'contains(been)': False, 'contains(very)': False, 'contains(your)': False, 'contains(when)': False, 'contains(never)': False, 'contains(makes)': False, 'contains(there)': False, 'contains(may)': False, 'contains(which)': False, 'contains(us)': False, 'contains(work)': False, 'contains(best)': False, 'contains(he)': False, 'contains(bad)': False, \"contains(doesn't)\": False, 'contains(director)': False, 'contains())': False, 'contains(?)': False, 'contains(any)': False, 'contains(()': False, 'contains(love)': False, 'contains(would)': False, 'contains(life)': False, 'contains(they)': False, 'contains(while)': False, 'contains(:)': False, 'contains(we)': False, 'contains(was)': False, \"contains(there's)\": False, 'contains(movies)': False, 'contains(well)': True, 'contains(her)': False, 'contains(new)': False, 'contains(through)': False, 'contains(could)': False, 'contains(something)': False, 'contains(really)': False, 'contains(how)': False, 'contains(made)': False, 'contains(them)': False, 'contains(own)': False, 'contains(does)': False, 'contains(performances)': False, \"contains(that's)\": False, 'contains(drama)': False, 'contains(should)': False, 'contains(many)': False, 'contains(those)': False, 'contains(look)': False, 'contains(films)': False, 'contains(plot)': False, 'contains(still)': False, 'contains(see)': False, 'contains(every)': False, \"contains(isn't)\": False, 'contains(two)': False, 'contains(nothing)': False, 'contains(people)': False, 'contains(better)': False, 'contains(long)': False, 'contains(without)': False, 'contains(other)': False, 'contains(off)': True, 'contains(fun)': False, 'contains(get)': False, 'contains(being)': False, 'contains(action)': False, 'contains(both)': False, 'contains(great)': False, 'contains(though)': False, 'contains(might)': False, 'contains(big)': False, \"contains(')\": False, 'contains(also)': False, 'contains(another)': False, 'contains(cast)': False, 'contains(do)': False, 'contains(humor)': False, 'contains(audience)': False, 'contains(between)': False, 'contains(kind)': False, 'contains(first)': False, 'contains(sense)': False, 'contains(over)': False, 'contains(such)': False, 'contains(character)': False, 'contains(ever)': False, \"contains(don't)\": False, 'contains(feels)': False, 'contains(performance)': False, 'contains(;)': False, 'contains(few)': False, 'contains(script)': False, 'contains(because)': False, 'contains(here)': False, \"contains(film's)\": False, 'contains(far)': False, 'contains(often)': False, 'contains(seems)': False, 'contains(less)': False, 'contains(thing)': False, 'contains(minutes)': False, 'contains(real)': False, 'contains(feel)': False, 'contains(thriller)': False, 'contains(tale)': False, 'contains(world)': False, 'contains(almost)': False, 'contains(picture)': False, \"contains(can't)\": False, 'contains(down)': True, 'contains(quite)': False, 'contains(documentary)': False, 'contains(yet)': False, 'contains(interesting)': False, 'contains(!)': False, 'contains(these)': False, 'contains(entertaining)': False, \"contains(you're)\": False, 'contains(screen)': False, 'contains(my)': False, 'contains(rather)': False, 'contains(end)': False, 'contains(itself)': False, 'contains(hollywood)': False, 'contains(take)': False, 'contains(watching)': False, 'contains(full)': False, 'contains(seen)': False, 'contains(ultimately)': False, 'contains(go)': False, 'contains(hard)': False, 'contains(heart)': False, 'contains(de)': False, 'contains(comes)': False, 'contains(romantic)': False, 'contains(moments)': False, 'contains(lot)': False, 'contains(despite)': False, 'contains(american)': False, 'contains(were)': False, 'contains(where)': False, 'contains(me)': False, 'contains(after)': False, 'contains(acting)': False, 'contains(family)': False, 'contains(before)': False, 'contains(old)': False, 'contains(original)': False, 'contains(had)': False, 'contains(then)': False, 'contains(find)': False, 'contains(right)': False, 'contains(human)': False, 'contains(gets)': False, 'contains(worth)': False, 'contains(same)': False, 'contains(takes)': False, 'contains(come)': False, 'contains(times)': False, 'contains(things)': False, 'contains(dialogue)': False, 'contains(man)': False, 'contains(actors)': False, 'contains(back)': False, 'contains(scenes)': False, 'contains(watch)': False, 'contains(our)': False, 'contains(material)': False, 'contains(compelling)': False, 'contains(once)': False, 'contains(young)': False, 'contains(music)': False, 'contains(works)': False, 'contains(years)': False, 'contains(emotional)': False, 'contains(think)': False, 'contains(anyone)': False, 'contains(seem)': False, 'contains(want)': False, 'contains(gives)': False, 'contains(least)': False, 'contains(know)': False, 'contains(going)': False, 'contains(part)': False, 'contains(say)': False, 'contains(sometimes)': False, 'contains(piece)': False, 'contains(again)': False, 'contains(cinematic)': False, 'contains(entertainment)': False, 'contains(subject)': False, \"contains(you'll)\": False, 'contains(pretty)': False, 'contains(point)': False, 'contains(kids)': False, 'contains(last)': False, 'contains(give)': False, 'contains(special)': False, 'contains(making)': False, 'contains(bit)': False, 'contains(keep)': False, 'contains(whole)': False, 'contains(cinema)': False, 'contains(fascinating)': False, 'contains(together)': False, 'contains(why)': False, 'contains(dull)': False, 'contains(anything)': False, 'contains(fans)': False, 'contains(year)': False, 'contains(moving)': False, 'contains(since)': False, 'contains(away)': False, 'contains(-)': False, 'contains(need)': False, 'contains(style)': False, 'contains(manages)': False, 'contains(show)': False, 'contains(true)': False, 'contains(laughs)': False, 'contains(star)': False, 'contains(experience)': False, 'contains(sweet)': False, 'contains(clever)': False, 'contains(always)': False, 'contains(history)': False, 'contains(offers)': False, 'contains(direction)': False, 'contains(simply)': False, 'contains(high)': False, 'contains(mr)': False, 'contains(dark)': False, 'contains(silly)': False, 'contains(instead)': False, 'contains(whose)': False, 'contains(charm)': False, 'contains(him)': False, 'contains(predictable)': False, 'contains(care)': False, 'contains(actually)': False, 'contains(nearly)': False, 'contains(flick)': False, 'contains(art)': False, 'contains(visual)': False, 'contains(everything)': False, 'contains(matter)': False, 'contains(series)': False, 'contains(around)': False, 'contains(title)': False, 'contains(place)': False, 'contains(comic)': False, 'contains(video)': False, 'contains(idea)': False, 'contains(narrative)': False, \"contains(he's)\": False, 'contains(short)': False, 'contains(screenplay)': False, 'contains(done)': False, 'contains(war)': False, 'contains(goes)': False, 'contains(trying)': False, 'contains(genre)': False, 'contains(probably)': False, 'contains(now)': False, 'contains(women)': False, 'contains(under)': False, \"contains(movie's)\": False, 'contains(premise)': False, 'contains(familiar)': False, 'contains(plays)': False, 'contains(turns)': False, 'contains(enjoyable)': False, 'contains(horror)': False, 'contains(becomes)': False, 'contains(engaging)': False, 'contains(three)': False, 'contains(home)': False, 'contains(filmmakers)': False, 'contains(set)': False, 'contains(lacks)': False, 'contains(she)': False, 'contains(although)': False, 'contains(smart)': False, 'contains(feature)': False, 'contains(feeling)': False, 'contains(worst)': False, 'contains(effects)': False, 'contains(power)': False, 'contains(enjoy)': False, \"contains(won't)\": False, 'contains(effort)': False, 'contains(half)': False, 'contains(especially)': False, 'contains(study)': False, 'contains(charming)': False, 'contains(strong)': False, 'contains(intelligent)': False, 'contains(amusing)': False, 'contains(ending)': False, 'contains(day)': False, 'contains(likely)': False, 'contains(lack)': False, 'contains(debut)': False, 'contains(boring)': False, 'contains(theater)': False, 'contains(john)': False, 'contains(men)': False, 'contains(portrait)': False, 'contains(romance)': False, 'contains(each)': False, \"contains(what's)\": False, 'contains(mostly)': False, 'contains(sort)': False, 'contains(version)': False, 'contains(put)': False, 'contains(certainly)': False, 'contains(else)': False, 'contains(beautiful)': False, 'contains(looking)': False, 'contains(beautifully)': False, 'contains(level)': False, 'contains(next)': False, 'contains(easy)': False, 'contains(problem)': False, 'contains(become)': False, 'contains(message)': False, 'contains(surprisingly)': False, \"contains(you've)\": False, 'contains(wit)': False, 'contains(rare)': False, 'contains(lives)': False, 'contains(hours)': False, 'contains(fine)': False, 'contains(solid)': False, 'contains(quirky)': False, 'contains(exercise)': False, 'contains(mind)': False, 'contains(play)': False, 'contains(along)': False, 'contains(obvious)': False, 'contains(sure)': False, 'contains(fresh)': False, 'contains(face)': False, 'contains(looks)': False, 'contains(whether)': False, 'contains(directed)': False, 'contains(ideas)': False, 'contains(leave)': False, 'contains(mess)': False, 'contains(either)': False, 'contains(french)': False, 'contains(completely)': False, 'contains(past)': False, 'contains(modern)': False, 'contains(energy)': False, 'contains(interest)': False, 'contains(powerful)': False, 'contains(shot)': True, 'contains(dramatic)': False, 'contains(viewers)': False, 'contains(neither)': False, 'contains(melodrama)': False, 'contains(reason)': False, 'contains(classic)': False, 'contains(fact)': False, 'contains(beyond)': False, 'contains(fails)': False, 'contains(tone)': False, 'contains(children)': False, 'contains(suspense)': False, 'contains(filmmaking)': False, 'contains(stuff)': False, \"contains(didn't)\": False, 'contains(recent)': False, 'contains(shows)': False, 'contains(delivers)': False, \"contains(i'm)\": False, 'contains(everyone)': False, 'contains(left)': False, 'contains(deeply)': False, 'contains(intriguing)': False, 'contains(slow)': False, 'contains(believe)': False, 'contains(culture)': False, 'contains(truly)': False, 'contains(serious)': False, 'contains(death)': False, 'contains(ends)': False, 'contains(himself)': False, 'contains(actor)': False, 'contains(jokes)': False, 'contains(tries)': False, 'contains(black)': False, 'contains(book)': False, 'contains(ride)': False, 'contains(touching)': False, 'contains(production)': False, 'contains(spirit)': False, 'contains(occasionally)': False, 'contains(tv)': False, 'contains(audiences)': False, 'contains(sad)': False, 'contains(small)': False, 'contains(light)': False, 'contains(adventure)': False, 'contains(reality)': False, 'contains(passion)': False, 'contains(remains)': False, 'contains(storytelling)': False, 'contains(proves)': False, 'contains(hilarious)': False, 'contains(dumb)': False, 'contains(satisfying)': False, 'contains(terrific)': False, 'contains(exactly)': False, 'contains(camera)': False, 'contains(opera)': False, 'contains(formula)': False, 'contains(role)': False, 'contains(seeing)': False, 'contains(project)': False, 'contains(got)': False, 'contains(filmmaker)': False, 'contains(talent)': False, 'contains(images)': False, 'contains(different)': False, 'contains(already)': False, 'contains(nor)': False, 'contains(must)': False, 'contains(impossible)': False, 'contains(scene)': False, 'contains(line)': False, 'contains(stories)': False, 'contains(above)': False, 'contains(personal)': False, 'contains(girl)': False, 'contains(perfect)': False, 'contains(particularly)': False, 'contains(journey)': False, 'contains(gags)': False, 'contains(easily)': False, 'contains(attempt)': False, 'contains(simple)': False, 'contains(honest)': False, 'contains(pleasure)': False, 'contains(pretentious)': False, 'contains(psychological)': False, 'contains(given)': False, 'contains(summer)': False, 'contains(turn)': False, 'contains(close)': False, 'contains(animation)': False, 'contains(sex)': False, 'contains(against)': False, 'contains(complex)': False, 'contains(intelligence)': False, 'contains(hour)': False, 'contains(falls)': False, 'contains(flat)': False, 'contains(ways)': False, 'contains(did)': False, 'contains(found)': False, 'contains(earnest)': False, 'contains(difficult)': False, 'contains(michael)': False, 'contains(case)': False, 'contains(political)': False, 'contains(cliches)': False, 'contains(visually)': False, 'contains(thought)': False, 'contains(social)': False, 'contains(mystery)': False, 'contains(coming-of-age)': False, 'contains(head)': False, 'contains(leaves)': False, 'contains(getting)': False, 'contains(sequel)': False, 'contains(writing)': False, 'contains(crime)': False, 'contains(memorable)': False, 'contains(uses)': False, 'contains(game)': False, 'contains(none)': False, 'contains(violence)': False, 'contains(que)': False, 'contains(tell)': False, 'contains(written)': False, 'contains(wrong)': False, 'contains(rich)': False, 'contains(told)': False, 'contains(live)': False, 'contains(side)': False, 'contains(gone)': False, 'contains(job)': False, 'contains(brilliant)': False, 'contains(keeps)': False, 'contains(satire)': False, 'contains(finally)': False, 'contains(help)': False, 'contains(laugh)': False, 'contains(overall)': False, 'contains(needs)': False, 'contains(cold)': False, 'contains(otherwise)': False, 'contains(novel)': False, 'contains(barely)': False, 'contains(contrived)': False, 'contains(elements)': False, 'contains(rarely)': False, 'contains(days)': False, 'contains(boy)': False, 'contains(second)': False, 'contains(cool)': False, 'contains(lost)': False, 'contains(spy)': False, 'contains(acted)': True, 'contains(imagine)': False, 'contains(possible)': False, 'contains(o)': False, 'contains(starts)': False, 'contains(approach)': False, 'contains(nature)': False, 'contains(several)': False, 'contains(appeal)': False, 'contains(thoughtful)': False, 'contains(taste)': False, 'contains(during)': False, 'contains(entirely)': False, 'contains(final)': False, 'contains(having)': False, 'contains(guys)': False, 'contains(moral)': False, 'contains(running)': False, 'contains(tragedy)': False, 'contains(truth)': False, 'contains(eyes)': False, 'contains(wonderful)': False, 'contains(warm)': False, 'contains(mood)': False, 'contains(creepy)': False, 'contains(act)': False, 'contains(excellent)': False, 'contains(perhaps)': False, 'contains(fairly)': False, 'contains(y)': False, 'contains(soap)': False, 'contains(lead)': False, 'contains(surprising)': False, 'contains(insight)': False, 'contains(concept)': False, 'contains(wild)': False, 'contains(others)': False, 'contains(tedious)': False, 'contains(result)': False, 'contains(themselves)': False, 'contains(remarkable)': False, 'contains(behind)': False, 'contains(hero)': False, 'contains(form)': False, 'contains(attention)': False, 'contains(emotionally)': False, 'contains(entire)': False, \"contains(they're)\": False, 'contains(thoroughly)': False, 'contains(expect)': False, 'contains(viewer)': False, 'contains(bring)': False, 'contains(among)': False, 'contains(comedies)': False, 'contains(imagination)': False, 'contains(quality)': False, 'contains(call)': False, 'contains(adults)': False, 'contains(david)': False, 'contains(engrossing)': False, 'contains(animated)': False, 'contains(tired)': False, 'contains(epic)': False, 'contains(remake)': False, 'contains(nice)': False, 'contains(future)': False, 'contains(add)': False, 'contains(adaptation)': False, 'contains(four)': False, 'contains(strange)': False, 'contains(sci-fi)': False, 'contains(\\x96)': False, 'contains(gorgeous)': False, 'contains(witty)': False, 'contains(genuine)': False, 'contains(vision)': False, 'contains(quiet)': False, 'contains(latest)': False, 'contains(bland)': False, 'contains(usual)': False, 'contains(disney)': False, \"contains(you'd)\": False, 'contains(rock)': False, 'contains(sharp)': False, 'contains(moment)': False, 'contains(knows)': False, 'contains(teen)': False, 'contains(start)': False, 'contains(perfectly)': False, 'contains(change)': False, \"contains(i've)\": False, 'contains(la)': False, 'contains(thanks)': False, 'contains(beauty)': False, 'contains(worse)': False, 'contains(appealing)': False, 'contains(begins)': False, 'contains(depth)': False, 'contains(taking)': False, 'contains(somewhat)': False, 'contains(until)': False, 'contains(worthy)': False, 'contains(plenty)': False, 'contains(deep)': False, 'contains(dead)': False, 'contains(period)': False, 'contains(impressive)': False, 'contains(points)': False, 'contains(maybe)': False, 'contains(offer)': False, 'contains(effective)': False, 'contains(merely)': False, 'contains(events)': False, 'contains(hope)': False, 'contains(gentle)': False, 'contains(wonder)': False, 'contains(parents)': False, 'contains(provides)': False, \"contains(year's)\": False, 'contains(stupid)': False, 'contains(try)': False, 'contains(emotions)': False, 'contains(definitely)': False, 'contains(sit)': False, 'contains(lots)': False, 'contains(clear)': False, 'contains(fantasy)': False, 'contains(career)': False, 'contains(awful)': False, 'contains(hit)': False, 'contains(guy)': False, 'contains(ambitious)': False, 'contains(however)': False, 'contains(woman)': False, 'contains(decent)': False, 'contains(captures)': False, 'contains(important)': False, 'contains(surprise)': False, 'contains(straight)': False, 'contains(air)': False, 'contains(writer-director)': False, 'contains(unfortunately)': False, 'contains(someone)': False, 'contains(pure)': False, 'contains(age)': False, 'contains(doing)': False, 'contains(robert)': False, 'contains(subtle)': False, 'contains(throughout)': False, 'contains(execution)': False, 'contains(historical)': False, 'contains(able)': False, 'contains(thin)': False, 'contains(exciting)': False, 'contains(pace)': False, 'contains(run)': False, 'contains(utterly)': False, 'contains(inside)': False, 'contains(magic)': False, 'contains(scary)': False, 'contains(pictures)': False, 'contains(welcome)': False, 'contains(view)': False, 'contains(ii)': False, 'contains(brings)': False, 'contains(highly)': False, 'contains(ugly)': False, 'contains(sequences)': False, 'contains(sound)': False, 'contains(school)': False, 'contains(suffers)': False, 'contains(certain)': False, 'contains(process)': False, 'contains(female)': False, 'contains(relationship)': False, 'contains(examination)': False, 'contains(fire)': False, 'contains(cheap)': False, 'contains(creative)': False, 'contains(alone)': False, 'contains(sexual)': False, 'contains(deserves)': False, 'contains(based)': False, 'contains(coming)': False, 'contains(read)': False, 'contains(sustain)': False, 'contains(ensemble)': False, 'contains(provocative)': False, 'contains(lovely)': False, 'contains(single)': False, 'contains(tension)': False, 'contains(wants)': False, 'contains(playing)': False, 'contains(chemistry)': False, 'contains(poignant)': False, 'contains(upon)': False, 'contains(except)': False, 'contains(memory)': False, 'contains(cartoon)': False, 'contains(used)': False, 'contains(quickly)': False, 'contains(question)': False, 'contains(across)': False, 'contains(potential)': False, 'contains(flaws)': False, 'contains(delightful)': False, 'contains(words)': False, 'contains(middle)': False, 'contains(hand)': False, 'contains(use)': False, 'contains(city)': False, 'contains(major)': False, 'contains(working)': False, 'contains(cute)': False, 'contains(impact)': False, 'contains(deal)': False, 'contains(felt)': False, 'contains(low)': False, 'contains(talented)': False, 'contains(touch)': False, 'contains(odd)': False, 'contains(sensitive)': False, 'contains(success)': False, 'contains(force)': False, 'contains(lacking)': False, 'contains(winning)': False, 'contains(unfunny)': False, 'contains(cultural)': False, 'contains(flawed)': False, 'contains(master)': False, 'contains(stand)': False, 'contains(2)': False, 'contains(rest)': False, 'contains(yes)': False, 'contains(taken)': False, 'contains(actress)': False, 'contains(bond)': False, 'contains(waste)': False, 'contains(loud)': False, 'contains(mediocre)': False, 'contains(puts)': False, 'contains(sentimental)': False, 'contains(creates)': False, 'contains(situation)': False, 'contains(murder)': False, 'contains(generic)': False, 'contains(unexpected)': False, 'contains(filled)': False, 'contains(slight)': False, 'contains(convincing)': False, 'contains(eye)': False, 'contains(era)': False, 'contains(issues)': False, 'contains(previous)': False, 'contains(cut)': False, 'contains(formulaic)': False, 'contains(routine)': False, 'contains(melodramatic)': False, 'contains(remember)': False, 'contains(unsettling)': False, 'contains(slightly)': False, 'contains(relationships)': False, 'contains(weird)': False, 'contains(saw)': False, 'contains(house)': False, 'contains(ultimate)': False, 'contains(hardly)': False, 'contains(ability)': False, 'contains(mark)': False, 'contains(surprises)': False, 'contains(extremely)': False, 'contains(seriously)': False, 'contains(sincere)': False, 'contains(ago)': False, 'contains(*)': False, 'contains(apart)': False, 'contains(create)': False, 'contains(mildly)': False, 'contains(watchable)': False, 'contains(dog)': False, 'contains(country)': False, 'contains(hell)': False, 'contains(supposed)': False, 'contains(college)': False, 'contains(hold)': False, 'contains(heavy)': False, 'contains(class)': False, 'contains(cannot)': False, 'contains(giving)': False, 'contains(reveals)': False, 'contains(course)': False, 'contains(amount)': False, 'contains(gripping)': False, \"contains(aren't)\": False, 'contains(ones)': False, 'contains(treat)': False, 'contains(leads)': False, 'contains(finds)': False, 'contains(focus)': False, 'contains(road)': False, 'contains(living)': False, 'contains(thinking)': False, 'contains(stars)': False, 'contains(artist)': False, 'contains(succeeds)': False, 'contains(grant)': False, 'contains(inventive)': False, 'contains(largely)': False, 'contains(five)': False, 'contains(steven)': False, 'contains(pacing)': False, 'contains(e)': False, 'contains(grace)': False, 'contains(fully)': False, 'contains(forgettable)': False, 'contains(casting)': False, 'contains(trouble)': False, 'contains(indeed)': False, 'contains(mix)': False, 'contains(uneven)': False, 'contains(george)': False, 'contains(date)': False, 'contains(extreme)': False, 'contains(twists)': False, 'contains(terms)': False, 'contains(pleasant)': False, 'contains(attempts)': False, 'contains(contemporary)': False, 'contains(crush)': False, 'contains(crazy)': False, 'contains(intimate)': False, 'contains(tragic)': False, 'contains(joke)': False, 'contains(plain)': False, 'contains(thrills)': False, 'contains(old-fashioned)': False, 'contains(episode)': False, 'contains(money)': False, 'contains(stylish)': False, 'contains(pop)': False, 'contains(involved)': False, 'contains(sets)': False, 'contains(unique)': False, 'contains(water)': False, 'contains(masterpiece)': False, 'contains(badly)': False, 'contains(disturbing)': False, 'contains(problems)': False, 'contains(poetry)': False, 'contains(painful)': False, 'contains(business)': False, 'contains(substance)': False, 'contains(colorful)': False, 'contains(absolutely)': False, 'contains(promise)': False, \"contains(we've)\": False, 'contains(couple)': False, 'contains(missing)': False, \"contains(she's)\": False, 'contains(presents)': False, 'contains(york)': False, 'contains(recommend)': False, 'contains(considerable)': False, 'contains(yourself)': False, 'contains(themes)': False, 'contains(successful)': False, 'contains(es)': False, 'contains(complete)': False, 'contains(called)': False, 'contains(appears)': False, 'contains(soundtrack)': False, 'contains(involving)': False, 'contains(happens)': False, 'contains(runs)': False, 'contains(goofy)': False, 'contains(drag)': False, 'contains(heaven)': False, 'contains(happy)': False, 'contains(friendship)': False, 'contains(williams)': False, 'contains(target)': False, 'contains(pieces)': False, 'contains(politics)': False, 'contains(tom)': False, 'contains(soul)': False, 'contains(person)': False, 'contains([a])': False, 'contains(urban)': False, 'contains(blend)': False, 'contains(terrible)': False, 'contains(sentimentality)': False, 'contains(share)': False, 'contains(meditation)': False, 'contains(skin)': False, 'contains(absorbing)': False, 'contains(imax)': False, 'contains(wanted)': False, 'contains(strangely)': False, 'contains(flicks)': False, 'contains(triumph)': False, 'contains(interested)': False, \"contains(man's)\": False, 'contains(situations)': False, 'contains(effect)': False, 'contains(forced)': False, 'contains(british)': False, 'contains(played)': False, 'contains(oscar)': False, 'contains(typical)': False, 'contains(manner)': False, 'contains(parts)': False, 'contains(originality)': False, 'contains(forget)': False, 'contains(somehow)': False, 'contains(viewing)': False, 'contains(refreshing)': False, 'contains(equally)': False, \"contains(couldn't)\": False, 'contains(gay)': False, 'contains(mean)': False, 'contains(hits)': False, 'contains(evil)': False, 'contains(bright)': False, 'contains(bizarre)': False, 'contains(loses)': False, \"contains(director's)\": False, 'contains(painfully)': False, 'contains(dry)': False, 'contains(means)': False, 'contains(monster)': False, 'contains(well-acted)': False, 'contains(please)': False, 'contains(clichés)': False, 'contains(doubt)': False, 'contains(name)': False, 'contains(grief)': False, 'contains(stunning)': False, 'contains(liked)': False, 'contains(tells)': False, 'contains(virtually)': False, 'contains(said)': False, 'contains(central)': False, 'contains(sophisticated)': False, 'contains(alive)': False, 'contains(conflict)': False, 'contains(depressing)': False, 'contains(word)': False, 'contains(questions)': False, 'contains(fast)': False, 'contains(understand)': False, 'contains(derivative)': False, 'contains(setting)': False, 'contains(crafted)': False, 'contains(energetic)': False, 'contains(standard)': False, 'contains(fare)': False, 'contains(hate)': False, 'contains(frame)': False, 'contains(poor)': False, 'contains(night)': False, 'contains(whatever)': False, 'contains(somewhere)': False, 'contains(report)': False, 'contains(franchise)': False, 'contains(haunting)': False, 'contains(jackson)': False, 'contains(company)': False, 'contains(fan)': False, 'contains(general)': False, 'contains(dream)': False, 'contains(miss)': False, 'contains(twist)': False, 'contains(loss)': False, 'contains(sexy)': False, 'contains(lame)': False, 'contains(90)': False, 'contains(el)': False, 'contains(average)': False, 'contains(television)': False, 'contains(obviously)': False, 'contains(created)': False, 'contains(battle)': False, 'contains(eventually)': False, 'contains(amazing)': False, 'contains(places)': False, 'contains(treasure)': False, 'contains(generally)': False, 'contains(inspired)': False, 'contains(fat)': False, 'contains(break)': False, 'contains(remarkably)': False, 'contains(japanese)': False, 'contains(conventional)': False, 'contains(holds)': False, 'contains(refreshingly)': False, 'contains(heavy-handed)': False, 'contains(superficial)': False, 'contains(faith)': False, 'contains(insightful)': False, 'contains(white)': False, 'contains(brain)': False, 'contains(room)': False, 'contains(imaginative)': False, 'contains(ms)': False, 'contains(tough)': False, 'contains(match)': False, 'contains(essentially)': False, 'contains(atmosphere)': False, 'contains(una)': False, 'contains(clearly)': False, 'contains(possibly)': False, 'contains(opportunity)': False, 'contains(popcorn)': False, 'contains(edge)': False, 'contains(huge)': False, 'contains(deliver)': False, 'contains(genuinely)': False, 'contains(girls)': False, 'contains(footage)': False, 'contains(lines)': False, 'contains(let)': False, 'contains(weak)': False, 'contains(finish)': False, 'contains(allows)': False, 'contains(wedding)': False, 'contains(price)': False, 'contains(worthwhile)': False, 'contains(unlike)': False, 'contains(blue)': False, 'contains(thought-provoking)': False, 'contains(boys)': False, 'contains(riveting)': False, 'contains(affecting)': False, 'contains(niro)': False, 'contains(slapstick)': False, 'contains(warmth)': False, 'contains(vivid)': False, 'contains(excitement)': False, 'contains(sitting)': False, 'contains(toward)': False, 'contains(red)': False, 'contains(lets)': False, 'contains(spielberg)': False, 'contains(equivalent)': False, 'contains(green)': False, 'contains(needed)': False, 'contains(core)': False, 'contains(treatment)': False, 'contains(ice)': False, 'contains(purpose)': False, 'contains(s)': False, 'contains(within)': False, 'contains(pay)': False, 'contains(trip)': False, 'contains(filmed)': False, 'contains(humanity)': False, 'contains(guilty)': False, 'contains(x)': False, 'contains(minor)': False, 'contains(powers)': False, 'contains(delicate)': False, 'contains(balance)': False, 'contains(large)': False, 'contains(car)': False, 'contains(wildly)': False, 'contains(damned)': False, 'contains(writer)': False, 'contains(wish)': False, \"contains(we're)\": False, 'contains(intended)': False, 'contains(peter)': False, 'contains(crowd)': False, 'contains(unusual)': False, 'contains(particular)': False, 'contains(wait)': False, 'contains(believable)': False, 'contains(slice)': False, 'contains(heartfelt)': False, 'contains(2002)': False, 'contains(lazy)': False, 'contains(shallow)': False, 'contains(usually)': False, 'contains(america)': False, 'contains(affair)': False, \"contains(hasn't)\": False, 'contains(fit)': False, 'contains(simplistic)': False, 'contains(aside)': False, 'contains(kid)': False, 'contains(spectacle)': False, 'contains(charisma)': False, 'contains(murphy)': False, 'contains(efforts)': False, 'contains(fiction)': False, 'contains(fear)': False, 'contains(revenge)': False, 'contains(space)': False, 'contains(extraordinary)': False, 'contains(party)': False, \"contains(who's)\": False, 'contains(god)': False, 'contains(ridiculous)': False, 'contains(credits)': False, 'contains(detail)': False, 'contains(directors)': False, 'contains(wife)': False, 'contains(exhilarating)': False, 'contains(theme)': False, \"contains(wasn't)\": False, 'contains(stale)': False, 'contains(greatest)': False, 'contains(mesmerizing)': False, 'contains(sequence)': False, 'contains(further)': False, 'contains(natural)': False, 'contains(gangster)': False, 'contains(motion)': False, 'contains(funnier)': False, 'contains(combination)': False, \"contains(wouldn't)\": False, 'contains(promising)': False, 'contains(universal)': False, 'contains(offering)': False, 'contains(bears)': False, 'contains(skill)': False, 'contains(poorly)': False, 'contains(delight)': False, \"contains(i'd)\": False, 'contains(directorial)': False, 'contains(realistic)': False, 'contains(editing)': False, 'contains(score)': False, 'contains(devoid)': False, 'contains(fashion)': False, 'contains(open)': False, 'contains(decades)': False, 'contains(indie)': False, 'contains(sea)': False, 'contains(mindless)': False, 'contains(dreams)': False, 'contains(vehicle)': False, 'contains(quietly)': False, 'contains(stay)': False, 'contains(deftly)': False, 'contains(spectacular)': False, 'contains(deeper)': False, 'contains(talk)': False, 'contains(festival)': False, 'contains(sounds)': False, 'contains(figure)': False, 'contains(meaning)': False, 'contains(longer)': False, 'contains(sports)': False, 'contains(telling)': False, 'contains(empty)': False, 'contains(sum)': False, 'contains(spiritual)': False, 'contains(holes)': False, 'contains(stunts)': False, 'contains(turned)': False, 'contains(crimes)': False, 'contains(\\x97)': False, 'contains(stage)': False, 'contains(exploration)': False, 'contains(j)': False, 'contains(strength)': False, 'contains(king)': False, 'contains(manipulative)': False, 'contains(shots)': False, 'contains(development)': False, 'contains(roger)': False, 'contains(represents)': False, 'contains(intense)': False, 'contains(achieves)': False, 'contains(poetic)': False, 'contains(society)': False, 'contains(values)': False, 'contains(disguise)': False, 'contains(gross-out)': False, 'contains(paced)': False, 'contains(frequently)': False, 'contains(affection)': False, 'contains(surface)': False, 'contains(james)': False, 'contains(results)': False, 'contains(perspective)': False, 'contains(count)': False, 'contains(pointless)': False, 'contains(visuals)': False, 'contains(behavior)': False, 'contains(performers)': False, 'contains(reading)': False, 'contains(sight)': False, 'contains(farce)': False, 'contains(free)': False, 'contains(cinematography)': False, 'contains(move)': False, 'contains(allen)': False, 'contains(repetitive)': False, 'contains(number)': False, 'contains(shame)': False, 'contains(consider)': False, 'contains(value)': False, 'contains(dreary)': False, 'contains(chase)': False, 'contains(constructed)': False, 'contains(public)': False, 'contains(10)': False, 'contains(justice)': False, 'contains(identity)': False, 'contains(prove)': False, 'contains(pleasures)': False, 'contains(provide)': False, 'contains(talking)': False, 'contains(win)': False, \"contains(haven't)\": False, 'contains(release)': False, 'contains(awkward)': False, 'contains(profound)': False, 'contains(daring)': False, 'contains(expected)': False, 'contains(irritating)': False, 'contains(endearing)': False, 'contains(gem)': False, 'contains(oddly)': False, 'contains(generation)': False, 'contains(blade)': False, 'contains(credit)': False, 'contains(striking)': False, 'contains(members)': False, 'contains(avoid)': False, 'contains(accessible)': False, 'contains(complicated)': False, 'contains(overly)': False, 'contains(century)': False, 'contains(martin)': False, 'contains(desire)': False, 'contains(kevin)': False, 'contains(nonsense)': False, 'contains(ground)': False, 'contains(emerges)': False, 'contains(courage)': False, 'contains(walk)': False, 'contains(produced)': False, \"contains(story's)\": False, 'contains(presence)': False, 'contains(stands)': False, 'contains(determined)': False, 'contains(brown)': False, 'contains(voice)': False, 'contains(marks)': False, 'contains(diverting)': False, 'contains(glimpse)': False, 'contains(group)': False, 'contains(friends)': False, 'contains(concerned)': False, 'contains(killer)': False, 'contains(folks)': False, 'contains(blood)': False, 'contains(subjects)': False, 'contains(chance)': False, 'contains(bits)': False, 'contains(save)': False, 'contains(predecessor)': False, 'contains(admirable)': False, 'contains(loved)': False, 'contains(chilling)': False, 'contains(structure)': False, 'contains(damn)': False, 'contains(moviemaking)': False, 'contains(giant)': False, 'contains(incredibly)': False, 'contains(tiresome)': False, 'contains(struggle)': False, 'contains(thinks)': False, 'contains(musical)': False, 'contains(beat)': False, 'contains(follow)': False, 'contains(artistic)': False, 'contains(challenging)': False, 'contains(yarn)': False, 'contains(raw)': False, 'contains(enjoyed)': False, 'contains(offensive)': False, 'contains(trifle)': False, 'contains(shake)': False, 'contains(adam)': False, 'contains(frustrating)': False, 'contains(hot)': False, 'contains(ring)': False, 'contains(friday)': False, 'contains(top)': False, 'contains(waiting)': False, 'contains(example)': False, 'contains(games)': False, 'contains(ghost)': False, 'contains(um)': False, 'contains(del)': False, 'contains(weight)': False, 'contains(tribute)': False, 'contains(beneath)': False, 'contains(unless)': False, 'contains(failure)': False, 'contains(happen)': False, 'contains(wise)': False, 'contains(designed)': False, 'contains(levels)': False, 'contains(songs)': False, 'contains(intrigue)': False, 'contains(delivered)': False, 'contains(overcome)': False, 'contains(machine)': False, 'contains(main)': False, 'contains(necessary)': False, 'contains(commercial)': False, 'contains(community)': False, 'contains(screenwriter)': False, 'contains(hackneyed)': False, 'contains(using)': False, 'contains(ages)': False, 'contains(fears)': False, 'contains(attraction)': False, 'contains(serves)': False, 'contains(intentions)': False, 'contains(imagery)': False, 'contains(buy)': False, 'contains(pulls)': False, 'contains(nicely)': False, 'contains(nowhere)': False, 'contains(clumsy)': False, 'contains(numbers)': False, 'contains(return)': False, 'contains(fair)': False, 'contains(adolescent)': False, 'contains(meandering)': False, 'contains(vibrant)': False, 'contains(surely)': False, 'contains(team)': False, 'contains(jones)': False, 'contains(parker)': False, \"contains('the)\": False, 'contains(eight)': False, 'contains(search)': False, 'contains(mike)': False, 'contains(list)': False, 'contains(scenario)': False, 'contains(outrageous)': False, 'contains(reach)': False, 'contains(directing)': False, 'contains(funniest)': False, 'contains(bore)': False, 'contains(twice)': False, 'contains(national)': False, 'contains(delivery)': False, 'contains(jason)': False, 'contains(b-movie)': False, \"contains(world's)\": False, 'contains(document)': False, 'contains(damage)': False, 'contains(first-time)': False, 'contains(talents)': False, 'contains(spend)': False, 'contains(fall)': False, 'contains(bittersweet)': False, 'contains(realism)': False, 'contains(bunch)': False, 'contains(adult)': False, 'contains(desperate)': False, 'contains(sappy)': False, 'contains(unpleasant)': False, \"contains(characters')\": False, 'contains(disappointing)': False, 'contains(modest)': False, 'contains(moviegoers)': False, 'contains(chinese)': False, 'contains(wry)': False, 'contains(deserve)': False, 'contains(industry)': False, 'contains(father)': False, 'contains(winds)': False, 'contains(sheer)': False, 'contains(type)': False, 'contains(authentic)': False, 'contains(budget)': False, 'contains(creating)': False, 'contains(flair)': False, 'contains(present)': False, 'contains(dazzling)': False, 'contains(matters)': False, 'contains(vs)': False, 'contains(land)': False, 'contains(broad)': False, 'contains(today)': False, 'contains(un)': False, 'contains(humorous)': False, \"contains(i'll)\": False, 'contains(digital)': False, 'contains(accomplished)': False, 'contains(violent)': False, 'contains(emotion)': False, 'contains(dance)': False, 'contains(cause)': False, 'contains(maudlin)': False, 'contains(studio)': False, 'contains(excuse)': False, 'contains(stock)': False, 'contains(overwrought)': False, 'contains(body)': False, 'contains(inspiring)': False, 'contains(roles)': False, 'contains(superior)': False, 'contains(seat)': False, 'contains(standards)': False, 'contains(precious)': False, 'bigram(. .)': False, 'bigram(. the)': False, 'bigram(. a)': False, 'bigram(of the)': False, 'bigram(, but)': False, 'bigram(, and)': False, 'bigram(in the)': False, 'bigram(the film)': False, 'bigram(is a)': False, \"bigram(. it's)\": False, 'bigram(, the)': False, 'bigram(of a)': False, 'bigram(to the)': False, 'bigram(and the)': False, 'bigram(to be)': False, 'bigram(the movie)': False, 'bigram(. this)': False, 'bigram(. it)': False, 'bigram(for the)': False, 'bigram(it is)': False, 'bigram(with a)': False, 'bigram(. an)': False, 'bigram(as a)': False, 'bigram(in a)': False, 'bigram(on the)': False, 'bigram(one of)': False, 'bigram(and a)': False, 'bigram(this is)': False, 'bigram(a movie)': False, \"bigram(it's a)\": False, 'bigram(, it)': False, 'bigram(. if)': False, 'bigram(with the)': False, 'bigram(film is)': False, 'bigram(like a)': False, 'bigram(, a)': False, 'bigram(for a)': False, 'bigram(it .)': False, 'bigram(the most)': False, 'bigram(film .)': False, 'bigram(. but)': False, 'bigram(but it)': False, 'bigram(of its)': False, 'bigram(movie .)': False, \"bigram(, it's)\": False, 'bigram(, this)': False, 'bigram(a film)': False, 'bigram(as the)': False, 'bigram(from the)': False, 'bigram(. i)': False, 'bigram(at the)': False, 'bigram(all the)': False, 'bigram(by the)': False, 'bigram(movie is)': False, 'bigram(but the)': False, 'bigram(in its)': False, 'bigram(is the)': False, 'bigram(more than)': False, 'bigram(. as)': False, 'bigram(kind of)': False, 'bigram(that is)': False, 'bigram(about the)': False, 'bigram(, with)': False, 'bigram(film that)': False, 'bigram(movie ,)': False, 'bigram(film ,)': False, \"bigram(the film's)\": False, 'bigram(the story)': False, 'bigram(to a)': False, 'bigram(this movie)': False, 'bigram(has a)': False, 'bigram(have been)': False, 'bigram(movie that)': False, 'bigram(that it)': False, 'bigram(to make)': False, 'bigram(that the)': False, 'bigram(. what)': False, 'bigram(into the)': False, 'bigram(out of)': False, 'bigram(in this)': False, 'bigram(the best)': False, 'bigram(, as)': False, 'bigram(. in)': False, 'bigram(as it)': False, \"bigram(. there's)\": False, 'bigram(a good)': False, 'bigram(, is)': False, 'bigram(. \")': False, \"bigram(. ')\": False, 'bigram(. one)': False, 'bigram(. while)': False, \"bigram(but it's)\": False, 'bigram(if you)': False, 'bigram(its own)': False, 'bigram(sense of)': False, 'bigram(this film)': False, 'bigram(. there)': False, 'bigram(the same)': False, 'bigram(enough to)': False, 'bigram(is an)': False, 'bigram(be a)': False, 'bigram(into a)': False, 'bigram(is that)': False, 'bigram(to see)': False, 'bigram(is so)': False, 'bigram(a lot)': False, 'bigram(is not)': False, 'bigram(, which)': False, 'bigram(-- and)': False, 'bigram(, in)': False, 'bigram(. for)': False, 'bigram(. like)': False, 'bigram(. you)': False, 'bigram(comedy .)': False, 'bigram(than a)': False, 'bigram(the first)': False, 'bigram(time .)': False, 'bigram(a few)': False, 'bigram(look at)': False, 'bigram(a little)': False, 'bigram(on a)': False, 'bigram(the characters)': False, 'bigram(the end)': False, 'bigram(. and)': False, 'bigram(of this)': False, 'bigram(. with)': False, 'bigram(from a)': False, 'bigram(of an)': False, 'bigram(than the)': False, 'bigram(. not)': False, 'bigram(may be)': False, 'bigram(the way)': False, 'bigram(, you)': False, 'bigram(there is)': False, 'bigram(funny ,)': False, \"bigram(it's not)\": False, 'bigram(story .)': False, 'bigram(a great)': False, 'bigram(and ,)': False, 'bigram(by a)': False, 'bigram(of his)': False, 'bigram(mr .)': False, 'bigram(. even)': False, 'bigram(the kind)': False, 'bigram(you can)': False, 'bigram(, i)': False, 'bigram(not a)': False, 'bigram(there are)': False, 'bigram(hard to)': False, 'bigram(like the)': False, 'bigram(so much)': False, 'bigram(to watch)': False, 'bigram(. though)': False, 'bigram(most of)': False, 'bigram(them .)': False, 'bigram(, even)': False, 'bigram(, if)': False, 'bigram(is one)': False, 'bigram(, who)': False, 'bigram(about a)': False, 'bigram(manages to)': False, 'bigram(of those)': False, 'bigram(would be)': False, 'bigram(for its)': False, 'bigram(romantic comedy)': False, 'bigram(want to)': False, 'bigram(and his)': False, 'bigram(such a)': False, 'bigram(the audience)': False, 'bigram(, or)': False, 'bigram(at least)': False, 'bigram(to have)': False, 'bigram(work .)': False, 'bigram(, not)': False, 'bigram(a very)': False, 'bigram(could have)': False, 'bigram(much of)': False, 'bigram(it ,)': False, 'bigram(it has)': False, 'bigram(story ,)': False, 'bigram(with an)': False, 'bigram(as an)': False, 'bigram(have a)': False, 'bigram(in which)': False, 'bigram(that ,)': False, 'bigram(the plot)': False, 'bigram(through the)': False, 'bigram(trying to)': False, 'bigram(full of)': False, 'bigram(if the)': False, 'bigram(some of)': False, 'bigram(to get)': False, 'bigram(. despite)': False, 'bigram(as if)': False, 'bigram(in his)': False, \"bigram(the movie's)\": False, 'bigram(with its)': False, 'bigram(and its)': False, 'bigram(characters .)': False, \"bigram(if you're)\": False, 'bigram(of it)': False, 'bigram(should be)': False, 'bigram(will be)': False, 'bigram(. is)': False, 'bigram(and an)': False, 'bigram(can be)': False, 'bigram(is ,)': False, \"bigram(it doesn't)\": False, 'bigram(lot of)': False, 'bigram(one .)': False, 'bigram(seems to)': False, 'bigram(up to)': False, 'bigram(. at)': False, 'bigram(. too)': False, 'bigram(if it)': False, 'bigram(on its)': False, \"bigram(that it's)\": False, 'bigram(too much)': False, 'bigram(would have)': False, 'bigram(life .)': False, 'bigram(portrait of)': False, 'bigram(sort of)': False, 'bigram(the only)': False, 'bigram(. just)': False, 'bigram(a bad)': False, 'bigram(a story)': False, 'bigram(as well)': False, 'bigram(characters ,)': False, 'bigram(piece of)': False, 'bigram(, \")': False, 'bigram(, so)': False, 'bigram(, though)': False, 'bigram(a bit)': False, 'bigram(this one)': False, 'bigram(. its)': False, 'bigram(of all)': False, 'bigram(rather than)': False, 'bigram(the whole)': False, 'bigram(when it)': False, 'bigram(\" is)': False, 'bigram(, that)': False, 'bigram(at times)': False, 'bigram(drama .)': False, 'bigram(has the)': False, 'bigram(it was)': False, 'bigram(lack of)': False, 'bigram(not only)': False, 'bigram(. although)': False, 'bigram(be the)': False, 'bigram(funny .)': False, \"bigram(it's the)\": False, 'bigram(to say)': False, 'bigram(, like)': False, 'bigram(and it)': False, 'bigram(even if)': False, 'bigram(for all)': False, 'bigram(has been)': False, 'bigram(is just)': False, 'bigram(the script)': False, 'bigram(to do)': False, 'bigram(at a)': False, 'bigram(end ,)': False, 'bigram(film about)': False, 'bigram(have to)': False, 'bigram(in an)': False, 'bigram(the big)': False, 'bigram(the original)': False, 'bigram(the year)': False, \"bigram(there's no)\": False, 'bigram(to keep)': False, 'bigram(. all)': False, 'bigram(. has)': False, 'bigram(. no)': False, 'bigram(at its)': False, 'bigram(fun .)': False, 'bigram(it all)': False, 'bigram(it would)': False, 'bigram(just a)': False, 'bigram(tale of)': False, 'bigram(that makes)': False, 'bigram(the screen)': False, 'bigram(way .)': False, 'bigram(while the)': False, 'bigram() ,)': False, 'bigram(. so)': False, 'bigram(feels like)': False, 'bigram(is more)': False, 'bigram(it does)': False, 'bigram(that you)': False, 'bigram(the worst)': False, 'bigram(, no)': False, 'bigram(, one)': False, 'bigram(. when)': False, \"bigram(and it's)\": False, 'bigram(going to)': False, 'bigram(is as)': False, 'bigram(over the)': False, 'bigram(the last)': False, 'bigram(\" the)': False, 'bigram(. director)': False, 'bigram(. that)': False, 'bigram(comedy that)': False, 'bigram(instead of)': False, 'bigram(may not)': False, 'bigram(screen .)': False, 'bigram(the performances)': False, 'bigram(those who)': False, 'bigram(to find)': False, 'bigram(to its)': False, 'bigram(, at)': False, 'bigram(, its)': False, 'bigram(, then)': False, 'bigram(-- but)': False, 'bigram(but not)': False, 'bigram(funny and)': False, 'bigram(not to)': False, 'bigram(that will)': False, 'bigram(the picture)': False, 'bigram(the right)': False, 'bigram(the time)': False, 'bigram(year .)': False, 'bigram(, an)': False, 'bigram(all of)': False, 'bigram(and even)': False, 'bigram(be .)': False, 'bigram(better than)': False, 'bigram(documentary .)': False, 'bigram(is .)': False, 'bigram(is in)': False, 'bigram(it may)': False, 'bigram(the cast)': False, 'bigram(too many)': False, 'bigram(way to)': False, 'bigram(which is)': False, 'bigram(( and)': False, 'bigram(, to)': False, 'bigram(, too)': False, 'bigram(. by)': False, 'bigram(a fascinating)': False, 'bigram(a long)': False, 'bigram(but a)': False, 'bigram(film with)': False, 'bigram(humor .)': False, 'bigram(might have)': False, 'bigram(story is)': False, 'bigram(the filmmakers)': False, 'bigram(the theater)': False, 'bigram(time ,)': False, 'bigram(when the)': False, 'bigram(, while)': False, 'bigram(a new)': False, 'bigram(all its)': False, 'bigram(and more)': False, 'bigram(and not)': False, 'bigram(audience .)': False, 'bigram(is to)': False, 'bigram(is too)': False, 'bigram(makes the)': False, \"bigram(there's a)\": False, 'bigram(to take)': False, 'bigram(version of)': False, 'bigram(what is)': False, 'bigram(as much)': False, 'bigram(by its)': False, 'bigram(characters and)': False, 'bigram(comedy ,)': False, 'bigram(fails to)': False, \"bigram(it's hard)\": False, 'bigram(make a)': False, 'bigram(make it)': False, 'bigram(movie with)': False, 'bigram(of their)': False, 'bigram(off the)': False, 'bigram(plays like)': False, 'bigram(should have)': False, 'bigram(the director)': False, 'bigram(work of)': False, 'bigram(, for)': False, 'bigram(, we)': False, 'bigram(. some)': False, 'bigram(a real)': False, 'bigram(but this)': False, 'bigram(exercise in)': False, 'bigram(film has)': False, 'bigram(people who)': False, 'bigram(performances .)': False, 'bigram(the fact)': False, 'bigram(the other)': False, 'bigram(the world)': False, 'bigram(well as)': False, 'bigram(, more)': False, 'bigram(-- the)': False, 'bigram(. to)': False, 'bigram(a big)': False, 'bigram(and then)': False, 'bigram(because it)': False, 'bigram(of these)': False, 'bigram(out to)': False, 'bigram(part of)': False, 'bigram(special effects)': False, 'bigram(than it)': False, 'bigram(the more)': False, 'bigram(the very)': False, 'bigram(times ,)': False, 'bigram(, especially)': False, 'bigram(. more)': False, 'bigram(. we)': False, 'bigram(a way)': False, 'bigram(about as)': False, 'bigram(but also)': False, 'bigram(characters are)': False, 'bigram(despite its)': False, 'bigram(even the)': False, 'bigram(far more)': False, 'bigram(good ,)': False, 'bigram(here .)': False, 'bigram(it a)': False, \"bigram(it's also)\": False, \"bigram(it's just)\": False, 'bigram(just as)': False, 'bigram(might be)': False, 'bigram(none of)': False, 'bigram(of what)': False, 'bigram(see it)': False, 'bigram(story and)': False, 'bigram(subject matter)': False, 'bigram(thriller .)': False, 'bigram(you have)': False, \"bigram(, ')\": False, 'bigram(-- a)': False, 'bigram(a more)': False, 'bigram(fact that)': False, 'bigram(film of)': False, 'bigram(here ,)': False, 'bigram(his own)': False, 'bigram(is about)': False, 'bigram(it makes)': False, 'bigram(it to)': False, \"bigram(it's an)\": False, 'bigram(minutes .)': False, 'bigram(moments of)': False, \"bigram(that doesn't)\": False, 'bigram(that has)': False, 'bigram(the actors)': False, 'bigram(tries to)': False, 'bigram(way ,)': False, 'bigram(what it)': False, 'bigram(. nothing)': False, 'bigram(a comedy)': False, 'bigram(able to)': False, 'bigram(all .)': False, 'bigram(and that)': False, 'bigram(entertainment .)': False, 'bigram(films .)': False, 'bigram(how to)': False, 'bigram(like this)': False, 'bigram(lots of)': False, 'bigram(make the)': False, 'bigram(makes it)': False, 'bigram(movies ,)': False, 'bigram(movies .)': False, 'bigram(much more)': False, 'bigram(not be)': False, 'bigram(one that)': False, 'bigram(out the)': False, 'bigram(performances ,)': False, 'bigram(series of)': False, 'bigram(that are)': False, 'bigram(to give)': False, 'bigram(up .)': False, 'bigram(up in)': False, 'bigram(way of)': False, 'bigram(work ,)': False, 'bigram(you might)': False, 'bigram(, yet)': False, \"bigram(, you'll)\": False, 'bigram(a compelling)': False, 'bigram(and in)': False, 'bigram(as its)': False, 'bigram(care about)': False, 'bigram(each other)': False, 'bigram(examination of)': False, 'bigram(for this)': False, 'bigram(heart .)': False, 'bigram(humor and)': False, 'bigram(in all)': False, 'bigram(likely to)': False, 'bigram(little more)': False, 'bigram(long ,)': False, 'bigram(looking for)': False, 'bigram(of love)': False, 'bigram(of movie)': False, 'bigram(or the)': False, 'bigram(so many)': False, 'bigram(story of)': False, 'bigram(story that)': False, 'bigram(that this)': False, 'bigram(the material)': False, 'bigram(the title)': False, 'bigram(to go)': False, 'nouns': 4, 'verbs': 3, 'adjectives': 2, 'adverbs': 4}\n",
      "([\"it's\", 'coherent', ',', 'well', 'shot', ',', 'and', 'tartly', 'acted', ',', 'but', 'it', 'wears', 'you', 'down', 'like', 'a', 'dinner', 'guest', 'showing', 'off', 'his', 'doctorate', '.'], 'neg')\n",
      "num nouns 4\n",
      "num verbs 3\n",
      "num adjectives 2\n",
      "num adverbs 4\n"
     ]
    }
   ],
   "source": [
    "def Combined_document_features(document, word_features, bigram_features):\n",
    "    document_words = set(document)\n",
    "    document_bigrams = nltk.bigrams(document)\n",
    "    tagged_words = nltk.pos_tag(document)\n",
    "    features = {}\n",
    "    numNoun = 0\n",
    "    numVerb = 0\n",
    "    numAdj = 0\n",
    "    numAdverb = 0\n",
    "    for word in word_features:\n",
    "        features['contains({})'.format(word)] = (word in document_words)\n",
    "    for bigram in bigram_features:\n",
    "        features['bigram({} {})'.format(bigram[0], bigram[1])] = (bigram in document_bigrams)    \n",
    "    for (word, tag) in tagged_words:\n",
    "        if tag.startswith('N'): numNoun += 1\n",
    "        if tag.startswith('V'): numVerb += 1\n",
    "        if tag.startswith('J'): numAdj += 1\n",
    "        if tag.startswith('R'): numAdverb += 1\n",
    "    features['nouns'] = numNoun\n",
    "    features['verbs'] = numVerb\n",
    "    features['adjectives'] = numAdj\n",
    "    features['adverbs'] = numAdverb\n",
    "    return features\n",
    "\n",
    "# use this function to create feature sets for all sentences\n",
    "comb_featuresets = [(Combined_document_features(d, word_features, bigram_features), c) for (d, c) in documents]\n",
    "\n",
    "# features in document 0\n",
    "print(comb_featuresets[0][0])\n",
    "\n",
    "# the first sentence\n",
    "print(documents[0])\n",
    "# the pos tag features for this sentence\n",
    "print('num nouns', comb_featuresets[0][0]['nouns'])\n",
    "print('num verbs', comb_featuresets[0][0]['verbs'])\n",
    "print('num adjectives', comb_featuresets[0][0]['adjectives'])\n",
    "print('num adverbs', comb_featuresets[0][0]['adverbs'])"
   ]
  },
  {
   "cell_type": "code",
   "execution_count": 26,
   "metadata": {},
   "outputs": [
    {
     "data": {
      "text/plain": [
       "0.726"
      ]
     },
     "execution_count": 26,
     "metadata": {},
     "output_type": "execute_result"
    }
   ],
   "source": [
    "# train and test the classifier\n",
    "train_set, test_set = comb_featuresets[1000:], comb_featuresets[:1000]\n",
    "classifier = nltk.NaiveBayesClassifier.train(train_set)\n",
    "nltk.classify.accuracy(classifier, test_set)"
   ]
  },
  {
   "cell_type": "code",
   "execution_count": 27,
   "metadata": {},
   "outputs": [
    {
     "name": "stdout",
     "output_type": "stream",
     "text": [
      "    |   n   p |\n",
      "    |   e   o |\n",
      "    |   g   s |\n",
      "----+---------+\n",
      "neg |<366>129 |\n",
      "pos | 145<360>|\n",
      "----+---------+\n",
      "(row = reference; col = test)\n",
      "\n",
      "pos precision: 0.7361963190184049\n",
      "pos recall: 0.7128712871287128\n",
      "pos F-measure: 0.7243460764587525\n",
      "neg precision: 0.7162426614481409\n",
      "neg recall: 0.7393939393939394\n",
      "neg F-measure: 0.7276341948310139\n"
     ]
    }
   ],
   "source": [
    "# evaluation measures showing performance of classifier\n",
    "from nltk.metrics import *\n",
    "reflist = []\n",
    "testlist = []\n",
    "for (features, label) in test_set:\n",
    "    reflist.append(label)\n",
    "    testlist.append(classifier.classify(features))\n",
    "    \n",
    "# Confusion matrix gives true positives, false negatives, false positives, and true negatives\n",
    "#   where we interpret pos as \"yes\" and neg as \"no\"\n",
    "cm = ConfusionMatrix(reflist, testlist)\n",
    "print(cm)\n",
    "\n",
    "# define a set of item identifiers that are gold labels and a set of item identifiers that are predicted labels\n",
    "# this uses index numbers for the labels\n",
    "refpos = set([i for i,label in enumerate(reflist) if label == 'pos'])\n",
    "refneg = set([i for i,label in enumerate(reflist) if label == 'neg'])\n",
    "testpos = set([i for i,label in enumerate(testlist) if label == 'pos'])\n",
    "testneg = set([i for i,label in enumerate(testlist) if label == 'neg'])\n",
    "\n",
    "# compute precision, recall and F-measure for each label\n",
    "\n",
    "def printmeasures(label, refset, testset):\n",
    "    print(label, 'precision:', precision(refset, testset))\n",
    "    print(label, 'recall:', recall(refset, testset)) \n",
    "    print(label, 'F-measure:', f_measure(refset, testset))\n",
    "\n",
    "printmeasures('pos', refpos, testpos)\n",
    "printmeasures('neg', refneg, testneg)\n"
   ]
  },
  {
   "cell_type": "code",
   "execution_count": null,
   "metadata": {
    "collapsed": true
   },
   "outputs": [],
   "source": []
  },
  {
   "cell_type": "code",
   "execution_count": null,
   "metadata": {
    "collapsed": true
   },
   "outputs": [],
   "source": []
  }
 ],
 "metadata": {
  "kernelspec": {
   "display_name": "Python 3",
   "language": "python",
   "name": "python3"
  },
  "language_info": {
   "codemirror_mode": {
    "name": "ipython",
    "version": 3
   },
   "file_extension": ".py",
   "mimetype": "text/x-python",
   "name": "python",
   "nbconvert_exporter": "python",
   "pygments_lexer": "ipython3",
   "version": "3.6.3"
  }
 },
 "nbformat": 4,
 "nbformat_minor": 2
}
